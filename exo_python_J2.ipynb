{
 "cells": [
  {
   "cell_type": "markdown",
   "id": "341407a5",
   "metadata": {},
   "source": [
    "# 1. Écrivez un programme qui demande à l'utilisateur de saisir un nombre entier positif et affiche tous les nombres de 1 jusqu'à ce nombre (inclus)."
   ]
  },
  {
   "cell_type": "code",
   "execution_count": null,
   "id": "5baaaa80",
   "metadata": {},
   "outputs": [],
   "source": [
    "a=input(\"Entrez un int :\") #saisir un entier positif\n",
    "\n",
    "b = int(a) #définir cet entier comme un int\n",
    "\n",
    "for x in range(b): #boucle pour réitérer\n",
    "    print(x+1)"
   ]
  },
  {
   "cell_type": "markdown",
   "id": "1cb11a93",
   "metadata": {},
   "source": [
    "# 2. Écrivez une fonction qui prend une liste de nombres en entrée et renvoie une nouvelle liste contenant uniquement les nombres positifs."
   ]
  },
  {
   "cell_type": "code",
   "execution_count": null,
   "id": "47d6fff2",
   "metadata": {},
   "outputs": [],
   "source": [
    "liste = [1,-6,2,3,-3,5]\n",
    "\n",
    "print(liste)\n",
    "\n",
    "def positif_int(liste) :\n",
    "    liste_positif=[]\n",
    "    for n in liste :\n",
    "        if n > 0 :\n",
    "            liste_positif.append(n)\n",
    "    print(liste_positif)\n",
    "\n",
    "positif_int(liste)"
   ]
  },
  {
   "cell_type": "markdown",
   "id": "6525e3c4",
   "metadata": {},
   "source": [
    "# 3. Écrivez une fonction qui prend une liste de mots en entrée et renvoie une nouvelle liste contenant les mots dont la première lettre est une voyelle (a, e, i, o, u)."
   ]
  },
  {
   "cell_type": "code",
   "execution_count": null,
   "id": "2686314b",
   "metadata": {},
   "outputs": [],
   "source": [
    "liste = [\"bonjour\",\"aurevoir\",\"python\",\"avion\"]\n",
    "\n",
    "voyelle = [\"a\",\"e\",\"i\",\"o\",\"u\"]\n",
    "\n",
    "print(liste)\n",
    "\n",
    "def test() :\n",
    "    mot_voyelle =[]\n",
    "    for n in liste :\n",
    "        if n[0] in voyelle :\n",
    "            mot_voyelle.append(n)\n",
    "    print(mot_voyelle)\n",
    "\n",
    "test()"
   ]
  },
  {
   "cell_type": "markdown",
   "id": "60829bcb",
   "metadata": {},
   "source": [
    "# 4. Écrivez une fonction qui prend un nombre entier en entrée et affiche si ce nombre est positif, négatif ou nul."
   ]
  },
  {
   "cell_type": "code",
   "execution_count": null,
   "id": "ea63ae9b",
   "metadata": {},
   "outputs": [],
   "source": [
    "a = input(\"Entrez votre nombre test :\",)\n",
    "\n",
    "b = int(a)\n",
    "\n",
    "def test_pos():\n",
    "    if b > 0 :\n",
    "        print(\"Ce nombre est positif\")\n",
    "    elif b < 0 :\n",
    "        print(\"Ce nombre est negatif\")\n",
    "    else :\n",
    "        print(\"Ce nombre est nul\")\n",
    "\n",
    "test_pos()"
   ]
  },
  {
   "cell_type": "markdown",
   "id": "8f86a783",
   "metadata": {},
   "source": [
    "# 5. Écrivez un programme qui demande à l'utilisateur de saisir un mot et affiche si ce mot contient plus de 5 caractères."
   ]
  },
  {
   "cell_type": "code",
   "execution_count": null,
   "id": "75e1166f",
   "metadata": {},
   "outputs": [],
   "source": [
    "mot = input(\"Entrez votre mot :\")\n",
    "\n",
    "\n",
    "def test_len():\n",
    "    if len(mot) >= 5 :\n",
    "        print(\"Votre mot est long. Bravo !! il contient plus de 5 caractères !!!\")\n",
    "\n",
    "test_len()"
   ]
  },
  {
   "cell_type": "markdown",
   "id": "8f8d6fd6",
   "metadata": {},
   "source": [
    "# 6. Écrivez un programme qui demande à l'utilisateur de saisir 5 nombres entiers, acquisition clavier, les stocke dans une liste, puis affiche la liste."
   ]
  },
  {
   "cell_type": "code",
   "execution_count": null,
   "id": "cc26744a",
   "metadata": {},
   "outputs": [],
   "source": [
    "print(\"Vous allez entrer 5 entiers\")\n",
    "\n",
    "def cinq_entiers():\n",
    "    liste_entier = []\n",
    "    for n in range(5):\n",
    "        liste_entier.append(input(\"Entrez un entier :\",))\n",
    "    print(liste_entier)\n",
    "\n",
    "cinq_entiers()"
   ]
  },
  {
   "cell_type": "markdown",
   "id": "49121c3a",
   "metadata": {},
   "source": [
    "# 7. Écrivez une fonction qui prend une liste de nombres en entrée et renvoie la somme de tous les éléments de la liste."
   ]
  },
  {
   "cell_type": "code",
   "execution_count": null,
   "id": "cefd3fa0",
   "metadata": {},
   "outputs": [],
   "source": [
    "liste_nombre = [1,2,8]\n",
    "\n",
    "def somme():\n",
    "    a = 0\n",
    "    for n in liste_nombre :\n",
    "        a = n + a\n",
    "    print(a)\n",
    "\n",
    "somme()"
   ]
  },
  {
   "cell_type": "markdown",
   "id": "0960b29e",
   "metadata": {},
   "source": [
    "# 8. Écrivez une fonction qui prend une liste de mots en entrée et renvoie une nouvelle liste contenant la longueur de chaque mot."
   ]
  },
  {
   "cell_type": "code",
   "execution_count": null,
   "id": "b04c2906",
   "metadata": {},
   "outputs": [],
   "source": [
    "liste = [\"bonjour\",\"merci\",\"aurevoir\",\"bien\",\"Cocorico\"]\n",
    "\n",
    "def len_list():\n",
    "    a = int(len(liste))\n",
    "    liste_len = []\n",
    "    for n in range(a) :\n",
    "        liste_len.append(len(liste[n]))\n",
    "    print(liste_len)\n",
    "\n",
    "len_list()"
   ]
  },
  {
   "cell_type": "markdown",
   "id": "89320195",
   "metadata": {},
   "source": [
    "# 9. Écrivez une fonction qui prend une liste de nombres en entrée et renvoie une nouvelle liste contenant uniquement les nombres pairs de la liste initiale."
   ]
  },
  {
   "cell_type": "code",
   "execution_count": null,
   "id": "ec8aab65",
   "metadata": {},
   "outputs": [],
   "source": [
    "liste_entier = [1,2,3,4,5,6,7,8,9]\n",
    "\n",
    "def pair_numb() :\n",
    "    liste_pair = []\n",
    "    for n in liste_entier :\n",
    "        if (n % 2) == 0 :\n",
    "            liste_pair.append(n)\n",
    "    print(liste_pair)\n",
    "\n",
    "pair_numb()"
   ]
  },
  {
   "cell_type": "markdown",
   "id": "63f5a724",
   "metadata": {},
   "source": [
    "# 10. Écrivez un programme qui prend une liste de mots en entrée, acquisition clavier, les trie par ordre alphabétique et affiche la liste triée."
   ]
  },
  {
   "cell_type": "code",
   "execution_count": null,
   "id": "a4d57bbb",
   "metadata": {},
   "outputs": [],
   "source": [
    "liste_mot = [\"bonjour\",\"merci\",\"aurevoir\",\"tentacules\"]\n",
    "\n",
    "print(liste_mot)\n",
    "\n",
    "liste_mot.sort()\n",
    "\n",
    "print(liste_mot)"
   ]
  },
  {
   "cell_type": "markdown",
   "id": "90239fc6",
   "metadata": {},
   "source": [
    "# 11. Écrivez un programme qui demande à l'utilisateur de saisir une phrase et affiche le nombre de caractères de cette phrase (en comptant les espaces)."
   ]
  },
  {
   "cell_type": "code",
   "execution_count": null,
   "id": "09991f93",
   "metadata": {},
   "outputs": [],
   "source": [
    "phrase = input(\"Entrez votre si jolie phrase :\")\n",
    "\n",
    "print(phrase)\n",
    "\n",
    "print(\"Votre si jolie phrase comporte \",len(phrase),\"caractères, espaces inclus\")"
   ]
  },
  {
   "cell_type": "markdown",
   "id": "81e08e5d",
   "metadata": {},
   "source": [
    "# 12. Écrivez une fonction qui prend une chaîne de caractères en entrée et renvoie cette chaîne inversée."
   ]
  },
  {
   "cell_type": "code",
   "execution_count": null,
   "id": "63af1cc2",
   "metadata": {},
   "outputs": [],
   "source": [
    "mot = \"tartufle\"\n",
    "\n",
    "inverse = mot[::-1]\n",
    "\n",
    "print(inverse)"
   ]
  },
  {
   "cell_type": "markdown",
   "id": "e1650340",
   "metadata": {},
   "source": [
    "# 13. Écrivez une fonction qui prend une chaîne de caractères en entrée et renvoie le nombre de mots dans cette chaîne (un mot est séparé par un espace)."
   ]
  },
  {
   "cell_type": "code",
   "execution_count": null,
   "id": "400c5708",
   "metadata": {},
   "outputs": [],
   "source": [
    "chaine_de_mot = \"La voiture est rouge\"\n",
    "\n",
    "\n",
    "def nomb_mots():\n",
    " liste = chaine_de_mot.split(\" \")\n",
    " print(len(liste))\n",
    "\n",
    "nomb_mots()"
   ]
  },
  {
   "cell_type": "markdown",
   "id": "707510a1",
   "metadata": {},
   "source": [
    "# 14. Écrivez une fonction qui prend une chaîne de caractères en entrée et renvoie une nouvelle chaîne où chaque mot est en majuscules."
   ]
  },
  {
   "cell_type": "code",
   "execution_count": null,
   "id": "1f00e3fd",
   "metadata": {},
   "outputs": [],
   "source": [
    "chaine = input(\"Entrez votre si jolie phrase: \",)\n",
    "\n",
    "def maj(a):\n",
    "    a_maj=a.upper()\n",
    "    print(a_maj)\n",
    "\n",
    "maj(chaine)"
   ]
  },
  {
   "cell_type": "markdown",
   "id": "833be0ea",
   "metadata": {},
   "source": [
    "# 15. Écrivez une fonction qui prend une chaîne de caractères en entrée et renvoie True si cette chaîne est un palindrome (c'est-à-dire qu'elle se lit de la même manière de gauche à droite et de droite à gauche), sinon renvoie False"
   ]
  },
  {
   "cell_type": "code",
   "execution_count": null,
   "id": "3af162d1",
   "metadata": {},
   "outputs": [],
   "source": [
    "mot_test = input(\"Entrez votre si jolie phrase :\",)\n",
    "\n",
    "def palyndrome(a):\n",
    "    b = a[::-1]\n",
    "    if a == b :\n",
    "        print(True)\n",
    "    else :\n",
    "        print(False)\n",
    "\n",
    "palyndrome(mot_test)"
   ]
  },
  {
   "cell_type": "markdown",
   "id": "8b16f1fb",
   "metadata": {},
   "source": [
    "# 16. Écrivez un programme qui demande à l'utilisateur de deviner un nombre secret (par exemple 42). Le programme indique à l'utilisateur si le nombre à deviner est plus grand ou plus petit que sa proposition et continue de demander un nombre tant que l'utilisateur ne trouve pas le nombre secret. Une fois que l'utilisateur trouve le nombre secret, affichez un message de félicitations."
   ]
  },
  {
   "cell_type": "code",
   "execution_count": null,
   "id": "bd75d8d3",
   "metadata": {},
   "outputs": [],
   "source": [
    "entree = input(\"Entrez votre numéro fétiche :\", )\n",
    "\n",
    "nombre = int(entree)\n",
    "\n",
    "def bon_num(a):\n",
    "    while a != 42:\n",
    "        entree = input(\"retentez votre chance :\",)\n",
    "        a = int(entree)\n",
    "    print(\"Félicitation vous avez trouvé le numéo magique\")\n",
    "   \n",
    "\n",
    "bon_num(nombre)"
   ]
  },
  {
   "cell_type": "markdown",
   "id": "0229d8c1",
   "metadata": {},
   "source": [
    "# 17. Écrivez une fonction qui prend un nombre entier en entrée et affiche tous les nombres de 1 jusqu'à ce nombre (inclut) en utilisant une boucle \"while\"."
   ]
  },
  {
   "cell_type": "code",
   "execution_count": null,
   "id": "c01ba108",
   "metadata": {},
   "outputs": [],
   "source": [
    "def compteur():\n",
    "    i = 1\n",
    "    while i <= 10 :\n",
    "        print(i)\n",
    "        i += 1\n",
    "\n",
    "compteur()"
   ]
  },
  {
   "cell_type": "markdown",
   "id": "561f1929",
   "metadata": {},
   "source": [
    "# 18. Écrivez une fonction qui prend une liste de nombres en entrée et renvoie une nouvelle liste contenant uniquement les nombres positifs en utilisant une boucle \"while\"."
   ]
  },
  {
   "cell_type": "code",
   "execution_count": null,
   "id": "30ca22c6",
   "metadata": {},
   "outputs": [],
   "source": [
    "liste = [1,-6,2,3,-3,5,-12,23,2,12]\n",
    "\n",
    "print(liste)\n",
    "\n",
    "\n",
    "def compteurs():\n",
    "    i = 0\n",
    "    n = 0\n",
    "    liste_positif=[]\n",
    "    count = int(len(liste))\n",
    "    while i < count :\n",
    "        if liste[n] > 0 :\n",
    "            liste_positif.append(liste[n])\n",
    "        n += 1\n",
    "        i += 1\n",
    "    print(liste_positif)\n",
    "\n",
    "\n",
    "compteurs()"
   ]
  },
  {
   "cell_type": "markdown",
   "id": "1b166d5f",
   "metadata": {},
   "source": [
    "# 19. Écrivez une fonction qui prend une liste de mots en entrée et renvoie une nouvelle liste contenant les mots dont la première lettre est une voyelle (a, e, i, o, u) en utilisant une boucle \"while\"."
   ]
  },
  {
   "cell_type": "code",
   "execution_count": null,
   "id": "be9bc695",
   "metadata": {},
   "outputs": [],
   "source": [
    "liste = [\"olive\",\"bonjour\",\"aurevoir\",\"python\",\"avion\"]\n",
    "\n",
    "voyelle = [\"a\",\"e\",\"i\",\"o\",\"u\"]\n",
    "\n",
    "print(liste)\n",
    "\n",
    "def test() :\n",
    "    i = 0\n",
    "    mot_voyelle =[]\n",
    "    count = int(len(liste))\n",
    "    while i < count :\n",
    "        if liste[i][0] in voyelle :\n",
    "             mot_voyelle.append(liste[i])\n",
    "        i += 1\n",
    "    print(mot_voyelle)\n",
    "\n",
    "test()"
   ]
  },
  {
   "cell_type": "markdown",
   "id": "cdf1a160",
   "metadata": {},
   "source": [
    "# 20. Écrivez un programme qui demande à l'utilisateur de saisir un mot et affiche si ce mot contient plus de 5 caractères en utilisant une boucle \"while\"."
   ]
  },
  {
   "cell_type": "code",
   "execution_count": null,
   "id": "7bab5511",
   "metadata": {},
   "outputs": [],
   "source": [
    "mot = input(\"Entrez votre mot :\")\n",
    "\n",
    "def test_len_while():\n",
    "    while len(mot) >= 5 :\n",
    "        print(\"Votre mot est long. Bravo !! il contient plus de 5 caractères !!!\")\n",
    "        break\n",
    "\n",
    "test_len_while()"
   ]
  },
  {
   "cell_type": "markdown",
   "id": "a0809106",
   "metadata": {},
   "source": [
    "# 21. Écrivez une fonction qui prend un nombre entier en entrée et affiche la suite de Fibonacci jusqu'à l'ordre de ce nombre. La suite de Fibonacci est une séquence d'entiers où chaque nombre est la somme des deux nombres précédents. La séquence commence généralement par 0 et 1."
   ]
  },
  {
   "cell_type": "code",
   "execution_count": null,
   "id": "b329cf4e",
   "metadata": {},
   "outputs": [],
   "source": [
    "def suite_de_Fibonacci():\n",
    "    numb = input(\"J'ai une surprise, entres un chiffre:\",)\n",
    "    n = int(numb)\n",
    "    x = 1\n",
    "    suite_f = []\n",
    "    while x <= n :\n",
    "        x = x * 2\n",
    "        if x < n :\n",
    "            suite_f.append(x)\n",
    "    print(\"Alors, heureux !\", suite_f)\n",
    "\n",
    "\n",
    "\n",
    "suite_de_Fibonacci()"
   ]
  },
  {
   "cell_type": "markdown",
   "id": "612630ba",
   "metadata": {},
   "source": [
    "# 22. calculer 0.1+0.2 avec python expliquer le résultat. Comment obtenir le résultat souhaité dans ce cas ?"
   ]
  },
  {
   "cell_type": "markdown",
   "id": "dcacf9db",
   "metadata": {},
   "source": [
    "Le résultat obtenue (variable res dans le programme si dessous) est limité par un certain niveau de décimal lié au \"bit\". On peut y remédier en arrondissant ce résultat grace à la fonction \"round()\"."
   ]
  },
  {
   "cell_type": "code",
   "execution_count": null,
   "id": "1c120652",
   "metadata": {},
   "outputs": [],
   "source": [
    "res = 0.1 + 0.2\n",
    "print(res)\n",
    "print(round(res, 1))"
   ]
  }
 ],
 "metadata": {
  "kernelspec": {
   "display_name": "Python 3 (ipykernel)",
   "language": "python",
   "name": "python3"
  },
  "language_info": {
   "codemirror_mode": {
    "name": "ipython",
    "version": 3
   },
   "file_extension": ".py",
   "mimetype": "text/x-python",
   "name": "python",
   "nbconvert_exporter": "python",
   "pygments_lexer": "ipython3",
   "version": "3.10.9"
  }
 },
 "nbformat": 4,
 "nbformat_minor": 5
}
