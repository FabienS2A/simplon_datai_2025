{
 "cells": [
  {
   "cell_type": "markdown",
   "id": "341407a5",
   "metadata": {},
   "source": [
    "# 1. Écrivez un programme qui demande à l'utilisateur de saisir un nombre entier positif et affiche tous les nombres de 1 jusqu'à ce nombre (inclus)."
   ]
  },
  {
   "cell_type": "code",
   "execution_count": null,
   "id": "5baaaa80",
   "metadata": {},
   "outputs": [],
   "source": [
    "a=input(\"Entrez un int :\") #saisir un entier positif\n",
    "\n",
    "b = int(a) #définir cet entier comme un int\n",
    "\n",
    "for x in range(b): #boucle pour réitérer\n",
    "    print(x+1)"
   ]
  },
  {
   "cell_type": "markdown",
   "id": "1cb11a93",
   "metadata": {},
   "source": [
    "# 2. Écrivez une fonction qui prend une liste de nombres en entrée et renvoie une nouvelle liste contenant uniquement les nombres positifs."
   ]
  },
  {
   "cell_type": "code",
   "execution_count": null,
   "id": "47d6fff2",
   "metadata": {},
   "outputs": [],
   "source": [
    "def positif_int(x) : #la fonction prend un élement x qui comportera la liste de nombres\n",
    "    y=[]             #la variable y est définit pour y stocker les nombres triés\n",
    "    for n in x :     #une boucle for pour réitérer le test qui suit autant de fois que le nombre d'élément dans la liste d'entré\n",
    "        if n > 0 :   #condition du test, si élement de la liste > 0, le test retourne un booleen TRUE\n",
    "           y.append(n) #si la condition est respecté on ajoute l'élement à la nouvelle liste y\n",
    "    return y         #une fois tous les élement testé, la fonction retourne la liste y\n",
    "\n",
    "liste = [1,-6,2,3,-3,5] #liste de nombres à tester\n",
    "\n",
    " \n",
    "\n",
    "print(positif_int(liste))#appel de la fonction, et édition du résultat"
   ]
  },
  {
   "cell_type": "markdown",
   "id": "6525e3c4",
   "metadata": {},
   "source": [
    "# 3. Écrivez une fonction qui prend une liste de mots en entrée et renvoie une nouvelle liste contenant les mots dont la première lettre est une voyelle (a, e, i, o, u)."
   ]
  },
  {
   "cell_type": "code",
   "execution_count": null,
   "id": "2686314b",
   "metadata": {},
   "outputs": [],
   "source": [
    "def voy_pr(x) :   #la fonction prend un élement x qui comportera la liste de mots\n",
    "    voyelles = [\"a\",\"e\",\"i\",\"o\",\"u\"]   #liste des voyelles, propre à la fonction\n",
    "    y =[]      #la variable y est définit pour y stocker les mots triés\n",
    "    for n in x :   #une boucle for pour réitérer le test qui suit autant de fois que le nombre d'élément dans la liste d'entré\n",
    "        if n[0] in voyelles :   #condition du test, si mot de la liste commence par une voyelle, le test retourne un booleen TRUE\n",
    "            y.append(n)   #si la condition est respecté on ajoute l'élement à la nouvelle liste y\n",
    "    return y   #une fois tous les élement testé, la fonction retourne la liste y\n",
    "\n",
    "\n",
    "\n",
    "liste = [\"bonjour\",\"aurevoir\",\"python\",\"avion\"]   #liste de nombres à tester\n",
    "print(liste)      #print de la liste de départ (pour soumission à la fonction)\n",
    "print(voy_pr(liste))      #appel de la fonction, et édition du résultat"
   ]
  },
  {
   "cell_type": "markdown",
   "id": "60829bcb",
   "metadata": {},
   "source": [
    "# 4. Écrivez une fonction qui prend un nombre entier en entrée et affiche si ce nombre est positif, négatif ou nul."
   ]
  },
  {
   "cell_type": "code",
   "execution_count": null,
   "id": "ea63ae9b",
   "metadata": {},
   "outputs": [],
   "source": [
    "def test_pos():\n",
    "    a = input(\"Entrez votre nombre test :\",)\n",
    "    b = int(a)\n",
    "    if b > 0 :\n",
    "        print(\"Ce nombre est positif\")\n",
    "    elif b < 0 :\n",
    "        print(\"Ce nombre est negatif\")\n",
    "    elif b == 0 :\n",
    "        print(\"Ce nombre est nul\")\n",
    "\n",
    "test_pos()"
   ]
  },
  {
   "cell_type": "markdown",
   "id": "8f86a783",
   "metadata": {},
   "source": [
    "# 5. Écrivez un programme qui demande à l'utilisateur de saisir un mot et affiche si ce mot contient plus de 5 caractères."
   ]
  },
  {
   "cell_type": "code",
   "execution_count": null,
   "id": "75e1166f",
   "metadata": {},
   "outputs": [],
   "source": [
    "def test_len():\n",
    "    mot = input(\"Entrez votre mot :\")\n",
    "    if len(mot) >= 5 :\n",
    "        print(\"Votre mot est long. Bravo !! il contient plus de 5 caractères, bienvenue au MIT !!!\")\n",
    "    else :\n",
    "        print(\"Votre mot est court, ça arrive...\")\n",
    "\n",
    "test_len()"
   ]
  },
  {
   "cell_type": "markdown",
   "id": "8f8d6fd6",
   "metadata": {},
   "source": [
    "# 6. Écrivez un programme qui demande à l'utilisateur de saisir 5 nombres entiers, acquisition clavier, les stocke dans une liste, puis affiche la liste."
   ]
  },
  {
   "cell_type": "code",
   "execution_count": null,
   "id": "cc26744a",
   "metadata": {},
   "outputs": [],
   "source": [
    "def cinq_entiers():\n",
    "    print(\"Vous allez entrer 5 entiers, courage !\")\n",
    "    y = []\n",
    "    for n in range(5):\n",
    "        y.append(input(\"Entrez un entier :\",))\n",
    "    return y\n",
    "\n",
    "print(cinq_entiers())"
   ]
  },
  {
   "cell_type": "markdown",
   "id": "49121c3a",
   "metadata": {},
   "source": [
    "# 7. Écrivez une fonction qui prend une liste de nombres en entrée et renvoie la somme de tous les éléments de la liste."
   ]
  },
  {
   "cell_type": "code",
   "execution_count": null,
   "id": "cefd3fa0",
   "metadata": {},
   "outputs": [],
   "source": [
    "def somme(x):\n",
    "    y = 0\n",
    "    for n in x :\n",
    "        y = n + y\n",
    "    return y\n",
    "\n",
    "liste_nombre = [1,2,8]\n",
    "\n",
    "print(somme(liste_nombre))"
   ]
  },
  {
   "cell_type": "markdown",
   "id": "0960b29e",
   "metadata": {},
   "source": [
    "# 8. Écrivez une fonction qui prend une liste de mots en entrée et renvoie une nouvelle liste contenant la longueur de chaque mot."
   ]
  },
  {
   "cell_type": "code",
   "execution_count": null,
   "id": "b04c2906",
   "metadata": {},
   "outputs": [],
   "source": [
    "def len_list(x):\n",
    "    a = int(len(x))\n",
    "    y = []\n",
    "    for n in range(a) :\n",
    "        y.append(len(x[n]))\n",
    "    return y\n",
    "\n",
    "\n",
    "liste = [\"bonjour\",\"merci\",\"aurevoir\",\"bien\",\"Cocorico\"]\n",
    "print(len_list(liste))"
   ]
  },
  {
   "cell_type": "markdown",
   "id": "89320195",
   "metadata": {},
   "source": [
    "# 9. Écrivez une fonction qui prend une liste de nombres en entrée et renvoie une nouvelle liste contenant uniquement les nombres pairs de la liste initiale."
   ]
  },
  {
   "cell_type": "code",
   "execution_count": null,
   "id": "ec8aab65",
   "metadata": {},
   "outputs": [],
   "source": [
    "def pair_numb(x) :\n",
    "    y = []\n",
    "    for n in x :\n",
    "        if (n % 2) == 0 :\n",
    "            y.append(n)\n",
    "    return y\n",
    "\n",
    "liste_entier = [1,2,3,4,5,6,7,8,9]\n",
    "\n",
    "print(liste_entier)\n",
    "\n",
    "print(pair_numb(liste_entier))"
   ]
  },
  {
   "cell_type": "markdown",
   "id": "63f5a724",
   "metadata": {},
   "source": [
    "# 10. Écrivez un programme qui prend une liste de mots en entrée, acquisition clavier, les trie par ordre alphabétique et affiche la liste triée."
   ]
  },
  {
   "cell_type": "code",
   "execution_count": null,
   "id": "a4d57bbb",
   "metadata": {},
   "outputs": [],
   "source": [
    "liste_mot = [\"bonjour\",\"merci\",\"aurevoir\",\"tentacules\"]\n",
    "\n",
    "print(liste_mot)\n",
    "\n",
    "liste_mot.sort()\n",
    "\n",
    "print(liste_mot)"
   ]
  },
  {
   "cell_type": "markdown",
   "id": "90239fc6",
   "metadata": {},
   "source": [
    "# 11. Écrivez un programme qui demande à l'utilisateur de saisir une phrase et affiche le nombre de caractères de cette phrase (en comptant les espaces)."
   ]
  },
  {
   "cell_type": "code",
   "execution_count": null,
   "id": "09991f93",
   "metadata": {},
   "outputs": [],
   "source": [
    "phrase = input(\"Entrez votre si jolie phrase :\")\n",
    "\n",
    "print(phrase)\n",
    "\n",
    "print(\"Votre si jolie phrase comporte \",len(phrase),\"caractères, espaces inclus\")"
   ]
  },
  {
   "cell_type": "markdown",
   "id": "81e08e5d",
   "metadata": {},
   "source": [
    "# 12. Écrivez une fonction qui prend une chaîne de caractères en entrée et renvoie cette chaîne inversée."
   ]
  },
  {
   "cell_type": "code",
   "execution_count": null,
   "id": "63af1cc2",
   "metadata": {},
   "outputs": [],
   "source": [
    "def inv_strings(x) :\n",
    "    y = x[::-1]\n",
    "    return y\n",
    "\n",
    "mot = \"tartufle\"\n",
    "\n",
    "print(inv_strings(mot))"
   ]
  },
  {
   "cell_type": "markdown",
   "id": "e1650340",
   "metadata": {},
   "source": [
    "# 13. Écrivez une fonction qui prend une chaîne de caractères en entrée et renvoie le nombre de mots dans cette chaîne (un mot est séparé par un espace)."
   ]
  },
  {
   "cell_type": "code",
   "execution_count": 10,
   "id": "400c5708",
   "metadata": {},
   "outputs": [
    {
     "name": "stdout",
     "output_type": "stream",
     "text": [
      "4\n"
     ]
    }
   ],
   "source": [
    "def nomb_mots(x):\n",
    "    z = x.split(\" \")\n",
    "    y = len(z)\n",
    "    return y\n",
    "\n",
    "\n",
    "chaine_de_mot = \"La voiture est rouge et bleue.\"\n",
    "\n",
    "print(nomb_mots(chaine_de_mot))"
   ]
  },
  {
   "cell_type": "markdown",
   "id": "707510a1",
   "metadata": {},
   "source": [
    "# 14. Écrivez une fonction qui prend une chaîne de caractères en entrée et renvoie une nouvelle chaîne où chaque mot est en majuscules."
   ]
  },
  {
   "cell_type": "code",
   "execution_count": null,
   "id": "1f00e3fd",
   "metadata": {},
   "outputs": [],
   "source": [
    "def maj():\n",
    "    x = input(\"Entrez votre si jolie phrase: \",)\n",
    "    y=x.upper()\n",
    "    return y\n",
    "\n",
    "print(maj())"
   ]
  },
  {
   "cell_type": "markdown",
   "id": "833be0ea",
   "metadata": {},
   "source": [
    "# 15. Écrivez une fonction qui prend une chaîne de caractères en entrée et renvoie True si cette chaîne est un palindrome (c'est-à-dire qu'elle se lit de la même manière de gauche à droite et de droite à gauche), sinon renvoie False"
   ]
  },
  {
   "cell_type": "code",
   "execution_count": 12,
   "id": "3af162d1",
   "metadata": {},
   "outputs": [
    {
     "name": "stdout",
     "output_type": "stream",
     "text": [
      "Entrez votre si jolie mot :hjl\n",
      "False\n"
     ]
    }
   ],
   "source": [
    "def palyndrome(x):\n",
    "    y = x[::-1]\n",
    "    if x == y :\n",
    "        print(True)\n",
    "    else :\n",
    "        print(False)\n",
    "\n",
    "\n",
    "mot_test = input(\"Entrez votre si jolie mot :\",)\n",
    "palyndrome(mot_test)"
   ]
  },
  {
   "cell_type": "markdown",
   "id": "8b16f1fb",
   "metadata": {},
   "source": [
    "# 16. Écrivez un programme qui demande à l'utilisateur de deviner un nombre secret (par exemple 42). Le programme indique à l'utilisateur si le nombre à deviner est plus grand ou plus petit que sa proposition et continue de demander un nombre tant que l'utilisateur ne trouve pas le nombre secret. Une fois que l'utilisateur trouve le nombre secret, affichez un message de félicitations."
   ]
  },
  {
   "cell_type": "code",
   "execution_count": 13,
   "id": "bd75d8d3",
   "metadata": {},
   "outputs": [
    {
     "name": "stdout",
     "output_type": "stream",
     "text": [
      "Entrez votre numéro fétiche :4\n",
      "retentez votre chance :4\n",
      "retentez votre chance :12\n",
      "retentez votre chance :42\n",
      "Félicitation vous avez trouvé le numéo magique\n"
     ]
    }
   ],
   "source": [
    "x = input(\"Entrez votre numéro fétiche :\", )\n",
    "\n",
    "y = int(x)\n",
    "\n",
    "while y != 42:\n",
    "    x = input(\"retentez votre chance :\",)\n",
    "    y = int(x)\n",
    "    \n",
    "print(\"Félicitation vous avez trouvé le numéo magique\")"
   ]
  },
  {
   "cell_type": "markdown",
   "id": "0229d8c1",
   "metadata": {},
   "source": [
    "# 17. Écrivez une fonction qui prend un nombre entier en entrée et affiche tous les nombres de 1 jusqu'à ce nombre (inclut) en utilisant une boucle \"while\"."
   ]
  },
  {
   "cell_type": "code",
   "execution_count": null,
   "id": "c01ba108",
   "metadata": {},
   "outputs": [],
   "source": [
    "def compteur(x):\n",
    "    y = 1\n",
    "    while y <= x :\n",
    "        print(y)\n",
    "        y += 1\n",
    "\n",
    "\n",
    "nombre = 23\n",
    "compteur(nombre)"
   ]
  },
  {
   "cell_type": "markdown",
   "id": "561f1929",
   "metadata": {},
   "source": [
    "# 18. Écrivez une fonction qui prend une liste de nombres en entrée et renvoie une nouvelle liste contenant uniquement les nombres positifs en utilisant une boucle \"while\"."
   ]
  },
  {
   "cell_type": "code",
   "execution_count": null,
   "id": "30ca22c6",
   "metadata": {},
   "outputs": [],
   "source": [
    "def pos_while(x):\n",
    "    i = 0\n",
    "    n = 0\n",
    "    y=[]\n",
    "    z = int(len(x))\n",
    "    while i < z :\n",
    "        if x[n] > 0 :\n",
    "            y.append(x[n])\n",
    "        n += 1\n",
    "        i += 1\n",
    "    return y\n",
    "\n",
    "liste = [1,-6,2,3,-3,5,-12,23,2,12]\n",
    "\n",
    "print(liste)\n",
    "print(pos_while(liste))"
   ]
  },
  {
   "cell_type": "markdown",
   "id": "1b166d5f",
   "metadata": {},
   "source": [
    "# 19. Écrivez une fonction qui prend une liste de mots en entrée et renvoie une nouvelle liste contenant les mots dont la première lettre est une voyelle (a, e, i, o, u) en utilisant une boucle \"while\"."
   ]
  },
  {
   "cell_type": "code",
   "execution_count": null,
   "id": "be9bc695",
   "metadata": {},
   "outputs": [],
   "source": [
    "def test(x) :\n",
    "    z = [\"a\",\"e\",\"i\",\"o\",\"u\"]\n",
    "    i = 0\n",
    "    y =[]\n",
    "    n = int(len(x))\n",
    "    while i < n :\n",
    "        if x[i][0] in z :\n",
    "             y.append(x[i])\n",
    "        i += 1\n",
    "    return y\n",
    "\n",
    "liste = [\"olive\",\"bonjour\",\"aurevoir\",\"python\",\"avion\"]\n",
    "print(liste)\n",
    "print(test(liste))"
   ]
  },
  {
   "cell_type": "markdown",
   "id": "cdf1a160",
   "metadata": {},
   "source": [
    "# 20. Écrivez un programme qui demande à l'utilisateur de saisir un mot et affiche si ce mot contient plus de 5 caractères en utilisant une boucle \"while\"."
   ]
  },
  {
   "cell_type": "code",
   "execution_count": null,
   "id": "7bab5511",
   "metadata": {},
   "outputs": [],
   "source": [
    "def test_len_while():\n",
    "    mot = input(\"Entrez votre mot :\")\n",
    "    while len(mot) >= 5 :\n",
    "        print(\"Votre mot est long. Bravo !! il contient plus de 5 caractères !!!\")\n",
    "        break\n",
    "\n",
    "test_len_while()"
   ]
  },
  {
   "cell_type": "markdown",
   "id": "a0809106",
   "metadata": {},
   "source": [
    "# 21. Écrivez une fonction qui prend un nombre entier en entrée et affiche la suite de Fibonacci jusqu'à l'ordre de ce nombre. La suite de Fibonacci est une séquence d'entiers où chaque nombre est la somme des deux nombres précédents. La séquence commence généralement par 0 et 1."
   ]
  },
  {
   "cell_type": "code",
   "execution_count": null,
   "id": "b329cf4e",
   "metadata": {},
   "outputs": [],
   "source": [
    "def suite_de_Fibonacci():\n",
    "    numb = input(\"J'ai une surprise, entrez un chiffre:\",)\n",
    "    n = int(numb)\n",
    "    y = 1\n",
    "    suite_f = [0,1,1]\n",
    "    x = suite_f[1] + suite_f[2]\n",
    "    while y <= n :\n",
    "        y = suite_f[-2] + suite_f[-1]\n",
    "        x = suite_f[-1]\n",
    "        if y < n :\n",
    "            suite_f.append(y)\n",
    "    print(\"Alors, heureux ? Parce que je suis fier de moi!\", suite_f)\n",
    "\n",
    "suite_de_Fibonacci()"
   ]
  },
  {
   "cell_type": "markdown",
   "id": "612630ba",
   "metadata": {},
   "source": [
    "# 22. calculer 0.1+0.2 avec python expliquer le résultat. Comment obtenir le résultat souhaité dans ce cas ?"
   ]
  },
  {
   "cell_type": "markdown",
   "id": "dcacf9db",
   "metadata": {},
   "source": [
    "Le résultat obtenue (variable res dans le programme si dessous) est limité par un certain niveau de décimal lié au \"bit\". On peut y remédier en arrondissant ce résultat grace à la fonction \"round()\"."
   ]
  },
  {
   "cell_type": "code",
   "execution_count": null,
   "id": "1c120652",
   "metadata": {},
   "outputs": [],
   "source": [
    "res = 0.1 + 0.2\n",
    "print(res)\n",
    "print(round(res, 1))"
   ]
  }
 ],
 "metadata": {
  "kernelspec": {
   "display_name": "Python 3 (ipykernel)",
   "language": "python",
   "name": "python3"
  },
  "language_info": {
   "codemirror_mode": {
    "name": "ipython",
    "version": 3
   },
   "file_extension": ".py",
   "mimetype": "text/x-python",
   "name": "python",
   "nbconvert_exporter": "python",
   "pygments_lexer": "ipython3",
   "version": "3.10.9"
  }
 },
 "nbformat": 4,
 "nbformat_minor": 5
}
