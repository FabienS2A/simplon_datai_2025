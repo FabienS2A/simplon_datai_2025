{
 "cells": [
  {
   "cell_type": "markdown",
   "id": "34098c97",
   "metadata": {},
   "source": [
    "Numpy random\n",
    "Faire un générateur de nombre aléatoire pour le loto et l'euromillion. Attention c’est un tirage aléatoire sans remise (c.a.d que la boule trouvée n’est pas remise en jeu) et tous les chiffres ont la même probabilité d’apparaître."
   ]
  },
  {
   "cell_type": "code",
   "execution_count": 30,
   "id": "db736d58",
   "metadata": {},
   "outputs": [],
   "source": [
    "import numpy as np \"\"\"Import de la library numpy qui sera appelé np\"\"\""
   ]
  },
  {
   "cell_type": "markdown",
   "id": "2bed83f7",
   "metadata": {},
   "source": [
    "\"\"\"Création de la liste de numéros gagnants (num_g), tableau 1D avec 6 numéros random\"\"\""
   ]
  },
  {
   "cell_type": "code",
   "execution_count": 31,
   "id": "a70d307a",
   "metadata": {},
   "outputs": [
    {
     "data": {
      "text/plain": [
       "array([10, 11, 48,  3,  7])"
      ]
     },
     "execution_count": 31,
     "metadata": {},
     "output_type": "execute_result"
    }
   ],
   "source": [
    "np.random.choice(np.arange(1,50), 5, replace = False)"
   ]
  },
  {
   "cell_type": "code",
   "execution_count": 32,
   "id": "92b924b6",
   "metadata": {},
   "outputs": [
    {
     "data": {
      "text/plain": [
       "array([4])"
      ]
     },
     "execution_count": 32,
     "metadata": {},
     "output_type": "execute_result"
    }
   ],
   "source": [
    "np.random.choice(np.arange(1,10), 1, replace = False)"
   ]
  },
  {
   "cell_type": "code",
   "execution_count": 49,
   "id": "4f8788ae",
   "metadata": {},
   "outputs": [
    {
     "data": {
      "text/plain": [
       "array([11, 49, 19, 17,  7])"
      ]
     },
     "execution_count": 49,
     "metadata": {},
     "output_type": "execute_result"
    }
   ],
   "source": [
    "np.random.choice(np.arange(1,51), 5, replace = False)"
   ]
  },
  {
   "cell_type": "code",
   "execution_count": 34,
   "id": "9f4628ca",
   "metadata": {},
   "outputs": [
    {
     "data": {
      "text/plain": [
       "array([7, 5])"
      ]
     },
     "execution_count": 34,
     "metadata": {},
     "output_type": "execute_result"
    }
   ],
   "source": [
    "np.random.choice(np.arange(1,12), 2, replace = False)"
   ]
  },
  {
   "cell_type": "code",
   "execution_count": null,
   "id": "ba7056e5",
   "metadata": {},
   "outputs": [],
   "source": []
  }
 ],
 "metadata": {
  "kernelspec": {
   "display_name": "Python 3 (ipykernel)",
   "language": "python",
   "name": "python3"
  },
  "language_info": {
   "codemirror_mode": {
    "name": "ipython",
    "version": 3
   },
   "file_extension": ".py",
   "mimetype": "text/x-python",
   "name": "python",
   "nbconvert_exporter": "python",
   "pygments_lexer": "ipython3",
   "version": "3.10.9"
  }
 },
 "nbformat": 4,
 "nbformat_minor": 5
}
