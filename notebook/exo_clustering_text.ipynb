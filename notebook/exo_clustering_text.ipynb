{
 "cells": [
  {
   "cell_type": "markdown",
   "metadata": {},
   "source": [
    "Import the 20 newsgroups text dataset"
   ]
  },
  {
   "cell_type": "code",
   "execution_count": 33,
   "metadata": {},
   "outputs": [
    {
     "data": {
      "text/plain": [
       "['alt.atheism',\n",
       " 'comp.graphics',\n",
       " 'comp.os.ms-windows.misc',\n",
       " 'comp.sys.ibm.pc.hardware',\n",
       " 'comp.sys.mac.hardware',\n",
       " 'comp.windows.x',\n",
       " 'misc.forsale',\n",
       " 'rec.autos',\n",
       " 'rec.motorcycles',\n",
       " 'rec.sport.baseball',\n",
       " 'rec.sport.hockey',\n",
       " 'sci.crypt',\n",
       " 'sci.electronics',\n",
       " 'sci.med',\n",
       " 'sci.space',\n",
       " 'soc.religion.christian',\n",
       " 'talk.politics.guns',\n",
       " 'talk.politics.mideast',\n",
       " 'talk.politics.misc',\n",
       " 'talk.religion.misc']"
      ]
     },
     "execution_count": 33,
     "metadata": {},
     "output_type": "execute_result"
    }
   ],
   "source": [
    "from sklearn.datasets import fetch_20newsgroups\n",
    "from sklearn.feature_extraction.text import TfidfVectorizer\n",
    "from sklearn.pipeline import Pipeline\n",
    "from sklearn.model_selection import train_test_split, KFold, cross_validate\n",
    "from sklearn.metrics import confusion_matrix, make_scorer, precision_score, recall_score, f1_score\n",
    "import seaborn as sns\n",
    "from collections import Counter\n",
    "import pandas as pd\n",
    "import matplotlib.pyplot as plt\n",
    "import joblib\n",
    "import os, re\n",
    "import numpy as np\n",
    "pd.set_option('display.max_colwidth', 200)\n",
    "\n",
    "\n",
    "newsgroups_train = fetch_20newsgroups(subset='train')\n",
    "x, y = fetch_20newsgroups(return_X_y=True) \n",
    "from pprint import pprint\n",
    "z = (list(newsgroups.target_names))\n",
    "z\n"
   ]
  },
  {
   "cell_type": "code",
   "execution_count": 5,
   "metadata": {},
   "outputs": [
    {
     "data": {
      "text/plain": [
       "11314"
      ]
     },
     "execution_count": 5,
     "metadata": {},
     "output_type": "execute_result"
    }
   ],
   "source": [
    "len(y) #Explore : numbers of articles"
   ]
  },
  {
   "cell_type": "code",
   "execution_count": 7,
   "metadata": {},
   "outputs": [
    {
     "name": "stdout",
     "output_type": "stream",
     "text": [
      "From: smithw@col.hp.com (Walter Smith)\n",
      "Subject: Re: Playoff predictions\n",
      "Organization: Colorado Springs IT Center\n",
      "Lines: 41\n",
      "NNTP-Posting-Host: fajita19.cs.itc.hp.com\n",
      "\n",
      "OK, I'll join in the fun and give my playoff predictions: \n",
      "\n",
      "1st round: \n",
      "----------\n",
      "\n",
      "PITT vs NYI:  PITT in 4.  \n",
      "WASH vs NJD:  WASH in 6. \n",
      "\n",
      "BOS  vs BUF:  BOS  in 5. \n",
      "QUE  vs MON:  MON  in 7. \n",
      "\n",
      "CHI  vs STL:  CHI in 4. \n",
      "DET  vs TOR:  DET in 6. \n",
      "\n",
      "VAN  vs WIN:  WIN in 6. \n",
      "CAL  vs  LA:  CAL in 5. \n",
      "\n",
      "2nd round: \n",
      "----------\n",
      "\n",
      "PITT vs WASH: PITT in 4. \n",
      "BOS  vs MON:  BOS  in 6. \n",
      "\n",
      "CHI  vs DET:  CHI  in 7. \n",
      "WIN  vs CAL:  CAL  in 5. \n",
      "\n",
      "3rd round: \n",
      "----------\n",
      "\n",
      "PITT vs BOS:  PITT in 5. \n",
      "CHI  vs CAL:  CHI  in 5. \n",
      "\n",
      "Finals:\n",
      "------\n",
      "\n",
      "PITT vs CHI: PITT in 5. \n",
      "\n",
      "\n",
      "=============================================\n",
      "Walter\n",
      "\n",
      "\n"
     ]
    }
   ],
   "source": [
    "print(x[1988]) #Explore : example of an article"
   ]
  },
  {
   "cell_type": "markdown",
   "metadata": {},
   "source": [
    "2) Vectorize text to allow clustering by Kmeans which requiere numerical values\n",
    "\n",
    "First TfidVectorizer"
   ]
  },
  {
   "cell_type": "code",
   "execution_count": 8,
   "metadata": {},
   "outputs": [
    {
     "data": {
      "text/plain": [
       "(11314, 56121)"
      ]
     },
     "execution_count": 8,
     "metadata": {},
     "output_type": "execute_result"
    }
   ],
   "source": [
    "from sklearn.feature_extraction.text import TfidfVectorizer\n",
    "\n",
    "newsgroups_train = fetch_20newsgroups(subset='train')\n",
    "\n",
    "vectorizer =  TfidfVectorizer(max_df=0.5, min_df=2, stop_words='english')\n",
    "vectors = vectorizer.fit_transform(x)\n",
    "vectors.shape"
   ]
  },
  {
   "cell_type": "code",
   "execution_count": 9,
   "metadata": {},
   "outputs": [],
   "source": [
    "def clust_metrics(estimator, data, y = None): #function to evaluate clustering model\n",
    "\n",
    "    from sklearn.metrics import rand_score, adjusted_rand_score\n",
    "    from sklearn.metrics import ( mutual_info_score, normalized_mutual_info_score, adjusted_mutual_info_score)\n",
    "    from sklearn.metrics import ( homogeneity_score, completeness_score, v_measure_score)\n",
    "    from sklearn.metrics import fowlkes_mallows_score\n",
    "    from sklearn.metrics import silhouette_score\n",
    "    from sklearn.metrics import calinski_harabasz_score\n",
    "    from sklearn.metrics import davies_bouldin_score\n",
    "    import pandas as pd\n",
    "\n",
    "    estimator.fit(data)\n",
    "\n",
    "    metrics_GT = [rand_score, adjusted_rand_score, mutual_info_score, normalized_mutual_info_score, \n",
    "               adjusted_mutual_info_score, homogeneity_score, completeness_score, v_measure_score, \n",
    "               fowlkes_mallows_score]\n",
    "    \n",
    "    metrics_unk = [ silhouette_score]\n",
    "\n",
    "    score = []\n",
    "    \n",
    "    if y is not None :\n",
    "        for n in metrics_GT :\n",
    "            met = n(y, estimator.labels_)\n",
    "            score.append(round(met, 2))\n",
    "\n",
    "        for n in metrics_unk :\n",
    "            met = n(data, estimator.labels_)\n",
    "            score.append(round(met, 2))\n",
    "    \n",
    "        return pd.DataFrame({\"Clustering Metrics\": score}, index=['Rand_Index', 'Adjusted_Rand_Index', 'Mutual_Information', 'Normalized_Mutual_Information', \n",
    "               'Adjusted_Mutual_Information', 'Homogeneity_score', 'Completeness_score', 'V_measure_score', \n",
    "               'Fowlkes_Mallows_score','Silhouette_score'])\n",
    "    \n",
    "    else :\n",
    "        for n in metrics_unk :\n",
    "            met = n(data, estimator.labels_)\n",
    "            score.append(round(met, 2))\n",
    "\n",
    "        return pd.DataFrame({\"Clustering Metrics\": score}, index=['Silhouette_score'])"
   ]
  },
  {
   "cell_type": "markdown",
   "metadata": {},
   "source": [
    "3) Training Kmeans clustering model, and evaluate Clustering"
   ]
  },
  {
   "cell_type": "code",
   "execution_count": 11,
   "metadata": {},
   "outputs": [],
   "source": [
    "from sklearn.metrics import silhouette_score\n",
    "from sklearn.cluster import KMeans\n",
    "\n",
    "\n",
    "model_Tfid = KMeans(20,n_init= 10).fit(vectors)\n",
    "\n",
    "Kmeans_score_Tfid = clust_metrics(model_Tfid, vectors, y)"
   ]
  },
  {
   "cell_type": "markdown",
   "metadata": {},
   "source": [
    "Clustering score is pretty bad. Very poor Silhouette index, meaning that clusters are overlapping. Kmeans seems not to be a valuable method to clusterize text.\n",
    "\n",
    "See metrics score below, to compare with the next vectorization method."
   ]
  },
  {
   "cell_type": "markdown",
   "metadata": {},
   "source": [
    "Let's try with another Vectorization method, 'CountVectorizer' instead of 'TfidfVectorizer'"
   ]
  },
  {
   "cell_type": "code",
   "execution_count": 12,
   "metadata": {},
   "outputs": [
    {
     "data": {
      "text/plain": [
       "(11314, 130107)"
      ]
     },
     "execution_count": 12,
     "metadata": {},
     "output_type": "execute_result"
    }
   ],
   "source": [
    "from sklearn.feature_extraction.text import CountVectorizer\n",
    "\n",
    "newsgroups_train = fetch_20newsgroups(subset='train')\n",
    "\n",
    "vectorizer =  CountVectorizer()\n",
    "Cvectors = vectorizer.fit_transform(x)\n",
    "Cvectors.shape"
   ]
  },
  {
   "cell_type": "code",
   "execution_count": 13,
   "metadata": {},
   "outputs": [],
   "source": [
    "from sklearn.metrics import silhouette_score\n",
    "from sklearn.cluster import KMeans\n",
    "\n",
    "\n",
    "model_CountVect = KMeans(20,n_init= 10).fit(Cvectors)\n",
    "\n",
    "Kmeans_score_CountV  = clust_metrics(model_CountVect , Cvectors, y)"
   ]
  },
  {
   "cell_type": "markdown",
   "metadata": {},
   "source": [
    "Création d'un tableau Contenant les scores pour chaque méthode de corrélation."
   ]
  },
  {
   "cell_type": "code",
   "execution_count": 32,
   "metadata": {},
   "outputs": [
    {
     "data": {
      "text/html": [
       "<div>\n",
       "<style scoped>\n",
       "    .dataframe tbody tr th:only-of-type {\n",
       "        vertical-align: middle;\n",
       "    }\n",
       "\n",
       "    .dataframe tbody tr th {\n",
       "        vertical-align: top;\n",
       "    }\n",
       "\n",
       "    .dataframe thead th {\n",
       "        text-align: right;\n",
       "    }\n",
       "</style>\n",
       "<table border=\"1\" class=\"dataframe\">\n",
       "  <thead>\n",
       "    <tr style=\"text-align: right;\">\n",
       "      <th></th>\n",
       "      <th>Tfid Vectorizer</th>\n",
       "      <th>CounterVect</th>\n",
       "    </tr>\n",
       "  </thead>\n",
       "  <tbody>\n",
       "    <tr>\n",
       "      <th>Rand_Index</th>\n",
       "      <td>0.83</td>\n",
       "      <td>0.50</td>\n",
       "    </tr>\n",
       "    <tr>\n",
       "      <th>Adjusted_Rand_Index</th>\n",
       "      <td>0.14</td>\n",
       "      <td>0.01</td>\n",
       "    </tr>\n",
       "    <tr>\n",
       "      <th>Mutual_Information</th>\n",
       "      <td>1.22</td>\n",
       "      <td>0.08</td>\n",
       "    </tr>\n",
       "    <tr>\n",
       "      <th>Normalized_Mutual_Information</th>\n",
       "      <td>0.46</td>\n",
       "      <td>0.04</td>\n",
       "    </tr>\n",
       "    <tr>\n",
       "      <th>Adjusted_Mutual_Information</th>\n",
       "      <td>0.45</td>\n",
       "      <td>0.03</td>\n",
       "    </tr>\n",
       "    <tr>\n",
       "      <th>Homogeneity_score</th>\n",
       "      <td>0.41</td>\n",
       "      <td>0.03</td>\n",
       "    </tr>\n",
       "    <tr>\n",
       "      <th>Completeness_score</th>\n",
       "      <td>0.51</td>\n",
       "      <td>0.08</td>\n",
       "    </tr>\n",
       "    <tr>\n",
       "      <th>V_measure_score</th>\n",
       "      <td>0.46</td>\n",
       "      <td>0.04</td>\n",
       "    </tr>\n",
       "    <tr>\n",
       "      <th>Fowlkes_Mallows_score</th>\n",
       "      <td>0.24</td>\n",
       "      <td>0.17</td>\n",
       "    </tr>\n",
       "    <tr>\n",
       "      <th>Silhouette_score</th>\n",
       "      <td>0.01</td>\n",
       "      <td>0.23</td>\n",
       "    </tr>\n",
       "  </tbody>\n",
       "</table>\n",
       "</div>"
      ],
      "text/plain": [
       "                               Tfid Vectorizer  CounterVect\n",
       "Rand_Index                                0.83         0.50\n",
       "Adjusted_Rand_Index                       0.14         0.01\n",
       "Mutual_Information                        1.22         0.08\n",
       "Normalized_Mutual_Information             0.46         0.04\n",
       "Adjusted_Mutual_Information               0.45         0.03\n",
       "Homogeneity_score                         0.41         0.03\n",
       "Completeness_score                        0.51         0.08\n",
       "V_measure_score                           0.46         0.04\n",
       "Fowlkes_Mallows_score                     0.24         0.17\n",
       "Silhouette_score                          0.01         0.23"
      ]
     },
     "execution_count": 32,
     "metadata": {},
     "output_type": "execute_result"
    }
   ],
   "source": [
    "Kmeans_score_Tfid.rename(columns = {'Clustering Metrics':'Tfid Vectorizer'}, inplace = True)\n",
    "\n",
    "\n",
    "\n",
    "\n",
    "pdToList = list(Kmeans_score_CountV['Clustering Metrics'])\n",
    "\n",
    "\n",
    "Kmeans_score_Tfid['CounterVect'] = pdToList\n",
    "\n",
    "Kmeans_score_Tfid\n",
    "\n"
   ]
  },
  {
   "cell_type": "markdown",
   "metadata": {},
   "source": [
    "Evaluation metrics still very poor. But we can observe a slight increase for some score with the Tfid Vectorization method.\n",
    "Note that 2 metrics 'Calinski_Harabasz_score' and 'Davies_Bouldin_score' return error on calculation and were remove for the evaluation function.\n",
    "\n",
    "Next I'm gonna to clean the text from repeated information such as headers and footers informations."
   ]
  }
 ],
 "metadata": {
  "kernelspec": {
   "display_name": "base",
   "language": "python",
   "name": "python3"
  },
  "language_info": {
   "codemirror_mode": {
    "name": "ipython",
    "version": 3
   },
   "file_extension": ".py",
   "mimetype": "text/x-python",
   "name": "python",
   "nbconvert_exporter": "python",
   "pygments_lexer": "ipython3",
   "version": "3.10.9"
  },
  "orig_nbformat": 4
 },
 "nbformat": 4,
 "nbformat_minor": 2
}
