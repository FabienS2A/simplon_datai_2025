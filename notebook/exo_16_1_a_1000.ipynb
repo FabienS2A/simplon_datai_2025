{
 "cells": [
  {
   "cell_type": "markdown",
   "id": "2da3f825",
   "metadata": {},
   "source": [
    "Reprenez l’exercice 16 et faites en sorte que le nombre à trouver soit aléatoire et compris entre 1 et 1000: \n",
    "“Écrivez un programme qui demande à l'utilisateur de deviner un nombre secret (par exemple 42). Le programme indique à l'utilisateur si le nombre à deviner est plus grand ou plus petit que sa proposition et continue de demander un nombre tant que l'utilisateur ne trouve pas le nombre secret. Une fois que l'utilisateur trouve le nombre secret, affichez un message de félicitations.”"
   ]
  },
  {
   "cell_type": "markdown",
   "id": "43196239",
   "metadata": {},
   "source": [
    "# 16. Écrivez un programme qui demande à l'utilisateur de deviner un nombre secret (par exemple 42). Le programme indique à l'utilisateur si le nombre à deviner est plus grand ou plus petit que sa proposition et continue de demander un nombre tant que l'utilisateur ne trouve pas le nombre secret. Une fois que l'utilisateur trouve le nombre secret, affichez un message de félicitations."
   ]
  },
  {
   "cell_type": "code",
   "execution_count": 5,
   "id": "bf819ff9",
   "metadata": {},
   "outputs": [
    {
     "name": "stdout",
     "output_type": "stream",
     "text": [
      "[310]\n",
      "Entrez votre numéro fétiche entre 1 et 1000 :310\n",
      "Félicitation vous avez trouvé le numéo magique\n"
     ]
    }
   ],
   "source": [
    "import numpy as np\n",
    "\n",
    "z = np.random.choice(np.arange(1,1001), 1)\n",
    "\n",
    "print(z)\n",
    "\n",
    "x = int(input(\"Entrez votre numéro fétiche entre 1 et 1000 :\", ))\n",
    "\n",
    "while x != z:\n",
    "    if x > z:\n",
    "        x = int(input(\"retentez votre chance,  vous avez visé trop haut:\",))\n",
    "    elif x < z:\n",
    "        x = int(input(\"retentez votre chance,  vous avez visé trop bas:\",))\n",
    "    \n",
    "    \n",
    "print(\"Félicitation vous avez trouvé le numéo magique\")"
   ]
  },
  {
   "cell_type": "code",
   "execution_count": null,
   "id": "0e9eca89",
   "metadata": {},
   "outputs": [],
   "source": []
  },
  {
   "cell_type": "code",
   "execution_count": null,
   "id": "e787e170",
   "metadata": {},
   "outputs": [],
   "source": []
  }
 ],
 "metadata": {
  "kernelspec": {
   "display_name": "Python 3 (ipykernel)",
   "language": "python",
   "name": "python3"
  },
  "language_info": {
   "codemirror_mode": {
    "name": "ipython",
    "version": 3
   },
   "file_extension": ".py",
   "mimetype": "text/x-python",
   "name": "python",
   "nbconvert_exporter": "python",
   "pygments_lexer": "ipython3",
   "version": "3.10.9"
  }
 },
 "nbformat": 4,
 "nbformat_minor": 5
}
