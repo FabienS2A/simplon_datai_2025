{
 "cells": [
  {
   "cell_type": "code",
   "execution_count": 20,
   "metadata": {},
   "outputs": [
    {
     "name": "stdout",
     "output_type": "stream",
     "text": [
      "Salut, je suis Dominique, j'ai 65 ans\n",
      "Salut, je suis Fabien, j'ai 38 ans\n",
      "Ouch, my headache is now 30\n"
     ]
    }
   ],
   "source": [
    "class Humain :\n",
    "    \n",
    "    def __init__(self, name, age, size, gender):\n",
    "        self.name = name\n",
    "        self.age = age\n",
    "        self.size = size\n",
    "        self.gender = gender\n",
    "\n",
    "    def __str__(self):\n",
    "        return \"Salut, je suis \" + self.name + \", j\\'ai \" + str(self.age) + \" ans\"\n",
    "    \n",
    "a = Humain('Dominique', 65, 1.82, 'homme')\n",
    "\n",
    "print(a)\n",
    "\n",
    "class Apprenant(Humain) :\n",
    "\n",
    "    def __init__(self, name, age, size, gender, headache = 0):\n",
    "        super().__init__(name, age, size, gender)\n",
    "        self.headache = headache\n",
    "\n",
    "    def prise_de_tete(self, formateur_id):\n",
    "         self.headache = self.headache + formateur_id.crazyness\n",
    "         return \"Ouch, my headache is now \" + str(self.headache)\n",
    "\n",
    "b = Apprenant('Fabien', 38, 1.82, 'homme')\n",
    "\n",
    "class Formateur(Humain) :\n",
    "    def __init__(self, name, age, size, gender, crazyness = 30):\n",
    "        super().__init__(name, age, size, gender)\n",
    "        self.crazyness = crazyness\n",
    "    \n",
    "    \n",
    "c = Formateur('Anto', 42, 1.80, 'homme')\n",
    "\n",
    "print(b)\n",
    "\n",
    "print(b.prise_de_tete(c))\n",
    "\n",
    "\n"
   ]
  }
 ],
 "metadata": {
  "kernelspec": {
   "display_name": "base",
   "language": "python",
   "name": "python3"
  },
  "language_info": {
   "codemirror_mode": {
    "name": "ipython",
    "version": 3
   },
   "file_extension": ".py",
   "mimetype": "text/x-python",
   "name": "python",
   "nbconvert_exporter": "python",
   "pygments_lexer": "ipython3",
   "version": "3.10.9"
  }
 },
 "nbformat": 4,
 "nbformat_minor": 2
}
