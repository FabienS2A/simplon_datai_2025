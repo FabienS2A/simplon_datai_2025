{
 "cells": [
  {
   "cell_type": "code",
   "execution_count": 31,
   "metadata": {},
   "outputs": [
    {
     "data": {
      "text/plain": [
       "['alt.atheism',\n",
       " 'comp.graphics',\n",
       " 'comp.os.ms-windows.misc',\n",
       " 'comp.sys.ibm.pc.hardware',\n",
       " 'comp.sys.mac.hardware',\n",
       " 'comp.windows.x',\n",
       " 'misc.forsale',\n",
       " 'rec.autos',\n",
       " 'rec.motorcycles',\n",
       " 'rec.sport.baseball',\n",
       " 'rec.sport.hockey',\n",
       " 'sci.crypt',\n",
       " 'sci.electronics',\n",
       " 'sci.med',\n",
       " 'sci.space',\n",
       " 'soc.religion.christian',\n",
       " 'talk.politics.guns',\n",
       " 'talk.politics.mideast',\n",
       " 'talk.politics.misc',\n",
       " 'talk.religion.misc']"
      ]
     },
     "execution_count": 31,
     "metadata": {},
     "output_type": "execute_result"
    }
   ],
   "source": [
    "from sklearn.datasets import fetch_20newsgroups\n",
    "from sklearn.feature_extraction.text import TfidfVectorizer\n",
    "from sklearn.model_selection import train_test_split, KFold, cross_validate\n",
    "from sklearn.metrics import confusion_matrix, make_scorer, precision_score, recall_score, f1_score\n",
    "import seaborn as sns\n",
    "from collections import Counter\n",
    "import pandas as pd\n",
    "import matplotlib.pyplot as plt\n",
    "\n",
    "\n",
    "\n",
    "newsgroups_train = fetch_20newsgroups(subset='train')\n",
    "newsgroups_test = fetch_20newsgroups(subset='test')\n",
    "\n",
    "X_train = newsgroups_train.data #liste de toute les données train\n",
    "X_test = newsgroups_test.data #liste de toute les données text\n",
    "y_train = newsgroups_train.filenames #liste de tous les noms de texte\n",
    "y_test = newsgroups_test.filenames #liste de tous les noms de texte\n",
    "z = (list(newsgroups_train.target_names))\n",
    "z #show newsgroup categories"
   ]
  },
  {
   "cell_type": "code",
   "execution_count": 32,
   "metadata": {},
   "outputs": [
    {
     "name": "stdout",
     "output_type": "stream",
     "text": [
      "Train list contain  11314 articles\n",
      "Test list contain  7532 articles\n"
     ]
    }
   ],
   "source": [
    "print('Train list contain ', len(y_train), 'articles') #Explore : numbers of articles\n",
    "print('Test list contain ', len(y_test), 'articles') #Explore : numbers of articles\n"
   ]
  },
  {
   "cell_type": "code",
   "execution_count": 33,
   "metadata": {},
   "outputs": [
    {
     "name": "stdout",
     "output_type": "stream",
     "text": [
      "From: smithw@col.hp.com (Walter Smith)\n",
      "Subject: Re: Playoff predictions\n",
      "Organization: Colorado Springs IT Center\n",
      "Lines: 41\n",
      "NNTP-Posting-Host: fajita19.cs.itc.hp.com\n",
      "\n",
      "OK, I'll join in the fun and give my playoff predictions: \n",
      "\n",
      "1st round: \n",
      "----------\n",
      "\n",
      "PITT vs NYI:  PITT in 4.  \n",
      "WASH vs NJD:  WASH in 6. \n",
      "\n",
      "BOS  vs BUF:  BOS  in 5. \n",
      "QUE  vs MON:  MON  in 7. \n",
      "\n",
      "CHI  vs STL:  CHI in 4. \n",
      "DET  vs TOR:  DET in 6. \n",
      "\n",
      "VAN  vs WIN:  WIN in 6. \n",
      "CAL  vs  LA:  CAL in 5. \n",
      "\n",
      "2nd round: \n",
      "----------\n",
      "\n",
      "PITT vs WASH: PITT in 4. \n",
      "BOS  vs MON:  BOS  in 6. \n",
      "\n",
      "CHI  vs DET:  CHI  in 7. \n",
      "WIN  vs CAL:  CAL  in 5. \n",
      "\n",
      "3rd round: \n",
      "----------\n",
      "\n",
      "PITT vs BOS:  PITT in 5. \n",
      "CHI  vs CAL:  CHI  in 5. \n",
      "\n",
      "Finals:\n",
      "------\n",
      "\n",
      "PITT vs CHI: PITT in 5. \n",
      "\n",
      "\n",
      "=============================================\n",
      "Walter\n",
      "\n",
      "\n"
     ]
    }
   ],
   "source": [
    "print(X_train[1988]) #Explore : example of an article"
   ]
  },
  {
   "cell_type": "markdown",
   "metadata": {},
   "source": [
    "2) Vectorize text to allow clustering by Kmeans which requiere numerical values\n",
    "\n",
    "First TfidVectorizer"
   ]
  },
  {
   "cell_type": "code",
   "execution_count": 34,
   "metadata": {},
   "outputs": [
    {
     "name": "stdout",
     "output_type": "stream",
     "text": [
      "(11314, 56121)\n",
      "(7532, 41432)\n"
     ]
    }
   ],
   "source": [
    "from sklearn.feature_extraction.text import TfidfVectorizer\n",
    "\n",
    "\n",
    "TfidV =  TfidfVectorizer(max_df=0.5, min_df=2, stop_words='english')\n",
    "TfidV_train = TfidV.fit_transform(X_train)\n",
    "TfidV_test = TfidV.fit_transform(X_test)\n",
    "print(TfidV_train.shape)\n",
    "print(TfidV_test.shape)"
   ]
  },
  {
   "cell_type": "markdown",
   "metadata": {},
   "source": [
    "Second vectorization method = CountVectorizer"
   ]
  },
  {
   "cell_type": "code",
   "execution_count": 35,
   "metadata": {},
   "outputs": [
    {
     "name": "stdout",
     "output_type": "stream",
     "text": [
      "(11314, 130107)\n",
      "(7532, 93564)\n"
     ]
    }
   ],
   "source": [
    "from sklearn.feature_extraction.text import CountVectorizer\n",
    "\n",
    "CountV =  CountVectorizer()\n",
    "CountV_train = CountV.fit_transform(X_train)\n",
    "CountV_test = CountV.fit_transform(X_test)\n",
    "print(CountV_train.shape)\n",
    "print(CountV_test.shape)"
   ]
  },
  {
   "cell_type": "code",
   "execution_count": 36,
   "metadata": {},
   "outputs": [],
   "source": [
    "def clust_metrics(estimator, data, y = None): #function to evaluate clustering model\n",
    "\n",
    "    from sklearn.metrics import rand_score, adjusted_rand_score\n",
    "    from sklearn.metrics import ( mutual_info_score, normalized_mutual_info_score, adjusted_mutual_info_score)\n",
    "    from sklearn.metrics import ( homogeneity_score, completeness_score, v_measure_score)\n",
    "    from sklearn.metrics import fowlkes_mallows_score\n",
    "    from sklearn.metrics import silhouette_score\n",
    "    from sklearn.metrics import calinski_harabasz_score\n",
    "    from sklearn.metrics import davies_bouldin_score\n",
    "    import pandas as pd\n",
    "\n",
    "    estimator.fit(data)\n",
    "\n",
    "    metrics_GT = [rand_score, adjusted_rand_score, mutual_info_score, normalized_mutual_info_score, \n",
    "               adjusted_mutual_info_score, homogeneity_score, completeness_score, v_measure_score, \n",
    "               fowlkes_mallows_score]\n",
    "    \n",
    "    metrics_unk = [ silhouette_score]\n",
    "\n",
    "    score = []\n",
    "    \n",
    "    if y is not None :\n",
    "        for n in metrics_GT :\n",
    "            met = n(y, estimator.labels_)\n",
    "            score.append(round(met, 2))\n",
    "\n",
    "        for n in metrics_unk :\n",
    "            met = n(data, estimator.labels_)\n",
    "            score.append(round(met, 2))\n",
    "    \n",
    "        return pd.DataFrame({\"Clustering Metrics\": score}, index=['Rand_Index', 'Adjusted_Rand_Index', 'Mutual_Information', 'Normalized_Mutual_Information', \n",
    "               'Adjusted_Mutual_Information', 'Homogeneity_score', 'Completeness_score', 'V_measure_score', \n",
    "               'Fowlkes_Mallows_score','Silhouette_score'])\n",
    "    \n",
    "    else :\n",
    "        for n in metrics_unk :\n",
    "            met = n(data, estimator.labels_)\n",
    "            score.append(round(met, 2))\n",
    "\n",
    "        return pd.DataFrame({\"Clustering Metrics\": score}, index=['Silhouette_score'])"
   ]
  },
  {
   "cell_type": "markdown",
   "metadata": {},
   "source": [
    "3) Training Kmeans clustering model, and evaluate Clustering"
   ]
  },
  {
   "cell_type": "code",
   "execution_count": 37,
   "metadata": {},
   "outputs": [],
   "source": [
    "from sklearn.cluster import KMeans\n",
    "\n",
    "model_Tfid = KMeans(20,n_init= 10).fit(TfidV_train)\n",
    "\n",
    "Kmeans_score_Tfid = clust_metrics(model_Tfid, TfidV_test, y_test)"
   ]
  },
  {
   "cell_type": "code",
   "execution_count": 38,
   "metadata": {},
   "outputs": [],
   "source": [
    "\n",
    "model_CountV = KMeans(20,n_init= 10).fit(CountV_train)\n",
    "\n",
    "Kmeans_score_CountV = clust_metrics(model_CountV, CountV_test, y_test)"
   ]
  },
  {
   "cell_type": "markdown",
   "metadata": {},
   "source": [
    "Création d'un tableau Contenant les scores pour chaque méthode de corrélation."
   ]
  },
  {
   "cell_type": "code",
   "execution_count": 39,
   "metadata": {},
   "outputs": [
    {
     "data": {
      "text/html": [
       "<div>\n",
       "<style scoped>\n",
       "    .dataframe tbody tr th:only-of-type {\n",
       "        vertical-align: middle;\n",
       "    }\n",
       "\n",
       "    .dataframe tbody tr th {\n",
       "        vertical-align: top;\n",
       "    }\n",
       "\n",
       "    .dataframe thead th {\n",
       "        text-align: right;\n",
       "    }\n",
       "</style>\n",
       "<table border=\"1\" class=\"dataframe\">\n",
       "  <thead>\n",
       "    <tr style=\"text-align: right;\">\n",
       "      <th></th>\n",
       "      <th>Tfid Vectorizer</th>\n",
       "      <th>CounterVect</th>\n",
       "    </tr>\n",
       "  </thead>\n",
       "  <tbody>\n",
       "    <tr>\n",
       "      <th>Rand_Index</th>\n",
       "      <td>0.84</td>\n",
       "      <td>0.61</td>\n",
       "    </tr>\n",
       "    <tr>\n",
       "      <th>Adjusted_Rand_Index</th>\n",
       "      <td>0.00</td>\n",
       "      <td>0.00</td>\n",
       "    </tr>\n",
       "    <tr>\n",
       "      <th>Mutual_Information</th>\n",
       "      <td>2.38</td>\n",
       "      <td>1.18</td>\n",
       "    </tr>\n",
       "    <tr>\n",
       "      <th>Normalized_Mutual_Information</th>\n",
       "      <td>0.42</td>\n",
       "      <td>0.23</td>\n",
       "    </tr>\n",
       "    <tr>\n",
       "      <th>Adjusted_Mutual_Information</th>\n",
       "      <td>0.00</td>\n",
       "      <td>0.00</td>\n",
       "    </tr>\n",
       "    <tr>\n",
       "      <th>Homogeneity_score</th>\n",
       "      <td>0.27</td>\n",
       "      <td>0.13</td>\n",
       "    </tr>\n",
       "    <tr>\n",
       "      <th>Completeness_score</th>\n",
       "      <td>1.00</td>\n",
       "      <td>1.00</td>\n",
       "    </tr>\n",
       "    <tr>\n",
       "      <th>V_measure_score</th>\n",
       "      <td>0.42</td>\n",
       "      <td>0.23</td>\n",
       "    </tr>\n",
       "    <tr>\n",
       "      <th>Fowlkes_Mallows_score</th>\n",
       "      <td>0.00</td>\n",
       "      <td>0.00</td>\n",
       "    </tr>\n",
       "    <tr>\n",
       "      <th>Silhouette_score</th>\n",
       "      <td>0.01</td>\n",
       "      <td>0.13</td>\n",
       "    </tr>\n",
       "  </tbody>\n",
       "</table>\n",
       "</div>"
      ],
      "text/plain": [
       "                               Tfid Vectorizer  CounterVect\n",
       "Rand_Index                                0.84         0.61\n",
       "Adjusted_Rand_Index                       0.00         0.00\n",
       "Mutual_Information                        2.38         1.18\n",
       "Normalized_Mutual_Information             0.42         0.23\n",
       "Adjusted_Mutual_Information               0.00         0.00\n",
       "Homogeneity_score                         0.27         0.13\n",
       "Completeness_score                        1.00         1.00\n",
       "V_measure_score                           0.42         0.23\n",
       "Fowlkes_Mallows_score                     0.00         0.00\n",
       "Silhouette_score                          0.01         0.13"
      ]
     },
     "execution_count": 39,
     "metadata": {},
     "output_type": "execute_result"
    }
   ],
   "source": [
    "Kmeans_score = Kmeans_score_Tfid.rename(columns = {'Clustering Metrics':'Tfid Vectorizer'})\n",
    "\n",
    "\n",
    "pdToList = list(Kmeans_score_CountV['Clustering Metrics'])\n",
    "\n",
    "\n",
    "Kmeans_score['CounterVect'] = pdToList\n",
    "\n",
    "Kmeans_score"
   ]
  },
  {
   "cell_type": "markdown",
   "metadata": {},
   "source": [
    "Evaluation metrics still very poor. But we can observe a slight increase for some score with the Tfid Vectorization method.\n",
    "Note that 2 metrics 'Calinski_Harabasz_score' and 'Davies_Bouldin_score' return error on calculation and were remove for the evaluation function.\n",
    "\n",
    "Next I'm gonna to clean the text from repeated information such as headers and footers informations."
   ]
  },
  {
   "cell_type": "markdown",
   "metadata": {},
   "source": [
    "3) Test other clustering method, specified to text clustering : \"LDA\""
   ]
  },
  {
   "cell_type": "code",
   "execution_count": 45,
   "metadata": {},
   "outputs": [
    {
     "data": {
      "text/html": [
       "<style>#sk-container-id-2 {color: black;background-color: white;}#sk-container-id-2 pre{padding: 0;}#sk-container-id-2 div.sk-toggleable {background-color: white;}#sk-container-id-2 label.sk-toggleable__label {cursor: pointer;display: block;width: 100%;margin-bottom: 0;padding: 0.3em;box-sizing: border-box;text-align: center;}#sk-container-id-2 label.sk-toggleable__label-arrow:before {content: \"▸\";float: left;margin-right: 0.25em;color: #696969;}#sk-container-id-2 label.sk-toggleable__label-arrow:hover:before {color: black;}#sk-container-id-2 div.sk-estimator:hover label.sk-toggleable__label-arrow:before {color: black;}#sk-container-id-2 div.sk-toggleable__content {max-height: 0;max-width: 0;overflow: hidden;text-align: left;background-color: #f0f8ff;}#sk-container-id-2 div.sk-toggleable__content pre {margin: 0.2em;color: black;border-radius: 0.25em;background-color: #f0f8ff;}#sk-container-id-2 input.sk-toggleable__control:checked~div.sk-toggleable__content {max-height: 200px;max-width: 100%;overflow: auto;}#sk-container-id-2 input.sk-toggleable__control:checked~label.sk-toggleable__label-arrow:before {content: \"▾\";}#sk-container-id-2 div.sk-estimator input.sk-toggleable__control:checked~label.sk-toggleable__label {background-color: #d4ebff;}#sk-container-id-2 div.sk-label input.sk-toggleable__control:checked~label.sk-toggleable__label {background-color: #d4ebff;}#sk-container-id-2 input.sk-hidden--visually {border: 0;clip: rect(1px 1px 1px 1px);clip: rect(1px, 1px, 1px, 1px);height: 1px;margin: -1px;overflow: hidden;padding: 0;position: absolute;width: 1px;}#sk-container-id-2 div.sk-estimator {font-family: monospace;background-color: #f0f8ff;border: 1px dotted black;border-radius: 0.25em;box-sizing: border-box;margin-bottom: 0.5em;}#sk-container-id-2 div.sk-estimator:hover {background-color: #d4ebff;}#sk-container-id-2 div.sk-parallel-item::after {content: \"\";width: 100%;border-bottom: 1px solid gray;flex-grow: 1;}#sk-container-id-2 div.sk-label:hover label.sk-toggleable__label {background-color: #d4ebff;}#sk-container-id-2 div.sk-serial::before {content: \"\";position: absolute;border-left: 1px solid gray;box-sizing: border-box;top: 0;bottom: 0;left: 50%;z-index: 0;}#sk-container-id-2 div.sk-serial {display: flex;flex-direction: column;align-items: center;background-color: white;padding-right: 0.2em;padding-left: 0.2em;position: relative;}#sk-container-id-2 div.sk-item {position: relative;z-index: 1;}#sk-container-id-2 div.sk-parallel {display: flex;align-items: stretch;justify-content: center;background-color: white;position: relative;}#sk-container-id-2 div.sk-item::before, #sk-container-id-2 div.sk-parallel-item::before {content: \"\";position: absolute;border-left: 1px solid gray;box-sizing: border-box;top: 0;bottom: 0;left: 50%;z-index: -1;}#sk-container-id-2 div.sk-parallel-item {display: flex;flex-direction: column;z-index: 1;position: relative;background-color: white;}#sk-container-id-2 div.sk-parallel-item:first-child::after {align-self: flex-end;width: 50%;}#sk-container-id-2 div.sk-parallel-item:last-child::after {align-self: flex-start;width: 50%;}#sk-container-id-2 div.sk-parallel-item:only-child::after {width: 0;}#sk-container-id-2 div.sk-dashed-wrapped {border: 1px dashed gray;margin: 0 0.4em 0.5em 0.4em;box-sizing: border-box;padding-bottom: 0.4em;background-color: white;}#sk-container-id-2 div.sk-label label {font-family: monospace;font-weight: bold;display: inline-block;line-height: 1.2em;}#sk-container-id-2 div.sk-label-container {text-align: center;}#sk-container-id-2 div.sk-container {/* jupyter's `normalize.less` sets `[hidden] { display: none; }` but bootstrap.min.css set `[hidden] { display: none !important; }` so we also need the `!important` here to be able to override the default hidden behavior on the sphinx rendered scikit-learn.org. See: https://github.com/scikit-learn/scikit-learn/issues/21755 */display: inline-block !important;position: relative;}#sk-container-id-2 div.sk-text-repr-fallback {display: none;}</style><div id=\"sk-container-id-2\" class=\"sk-top-container\"><div class=\"sk-text-repr-fallback\"><pre>LatentDirichletAllocation(n_components=20)</pre><b>In a Jupyter environment, please rerun this cell to show the HTML representation or trust the notebook. <br />On GitHub, the HTML representation is unable to render, please try loading this page with nbviewer.org.</b></div><div class=\"sk-container\" hidden><div class=\"sk-item\"><div class=\"sk-estimator sk-toggleable\"><input class=\"sk-toggleable__control sk-hidden--visually\" id=\"sk-estimator-id-2\" type=\"checkbox\" checked><label for=\"sk-estimator-id-2\" class=\"sk-toggleable__label sk-toggleable__label-arrow\">LatentDirichletAllocation</label><div class=\"sk-toggleable__content\"><pre>LatentDirichletAllocation(n_components=20)</pre></div></div></div></div></div>"
      ],
      "text/plain": [
       "LatentDirichletAllocation(n_components=20)"
      ]
     },
     "execution_count": 45,
     "metadata": {},
     "output_type": "execute_result"
    }
   ],
   "source": [
    "from sklearn.decomposition import LatentDirichletAllocation\n",
    "\n",
    "model_LDA = LatentDirichletAllocation(n_components=20)\n",
    "\n",
    "model_LDA.fit(TfidV_train)\n",
    "\n"
   ]
  },
  {
   "cell_type": "code",
   "execution_count": 47,
   "metadata": {},
   "outputs": [
    {
     "ename": "AttributeError",
     "evalue": "'LatentDirichletAllocation' object has no attribute 'predict'",
     "output_type": "error",
     "traceback": [
      "\u001b[0;31m---------------------------------------------------------------------------\u001b[0m",
      "\u001b[0;31mAttributeError\u001b[0m                            Traceback (most recent call last)",
      "\u001b[1;32m/Users/fabien/simplon_datai_2025/notebook/20newsgroup_clust.ipynb Cell 17\u001b[0m line \u001b[0;36m7\n\u001b[1;32m      <a href='vscode-notebook-cell:/Users/fabien/simplon_datai_2025/notebook/20newsgroup_clust.ipynb#X22sZmlsZQ%3D%3D?line=1'>2</a>\u001b[0m \u001b[39mfrom\u001b[39;00m \u001b[39msklearn\u001b[39;00m\u001b[39m.\u001b[39;00m\u001b[39mmetrics\u001b[39;00m \u001b[39mimport\u001b[39;00m classification_report\n\u001b[1;32m      <a href='vscode-notebook-cell:/Users/fabien/simplon_datai_2025/notebook/20newsgroup_clust.ipynb#X22sZmlsZQ%3D%3D?line=3'>4</a>\u001b[0m X_test \u001b[39m=\u001b[39m fetch_20newsgroups(subset\u001b[39m=\u001b[39m\u001b[39m'\u001b[39m\u001b[39mtest\u001b[39m\u001b[39m'\u001b[39m, remove\u001b[39m=\u001b[39m(\u001b[39m'\u001b[39m\u001b[39mheaders\u001b[39m\u001b[39m'\u001b[39m, \u001b[39m'\u001b[39m\u001b[39mfooters\u001b[39m\u001b[39m'\u001b[39m, \u001b[39m'\u001b[39m\u001b[39mquotes\u001b[39m\u001b[39m'\u001b[39m))\n\u001b[0;32m----> <a href='vscode-notebook-cell:/Users/fabien/simplon_datai_2025/notebook/20newsgroup_clust.ipynb#X22sZmlsZQ%3D%3D?line=6'>7</a>\u001b[0m y_pred \u001b[39m=\u001b[39m model_LDA\u001b[39m.\u001b[39;49mpredict(TfidV_test)\n\u001b[1;32m      <a href='vscode-notebook-cell:/Users/fabien/simplon_datai_2025/notebook/20newsgroup_clust.ipynb#X22sZmlsZQ%3D%3D?line=8'>9</a>\u001b[0m y_true \u001b[39m=\u001b[39m TfidV_test\u001b[39m.\u001b[39mtarget\n\u001b[1;32m     <a href='vscode-notebook-cell:/Users/fabien/simplon_datai_2025/notebook/20newsgroup_clust.ipynb#X22sZmlsZQ%3D%3D?line=9'>10</a>\u001b[0m accuracy \u001b[39m=\u001b[39m accuracy_score(y_true, y_pred)\n",
      "\u001b[0;31mAttributeError\u001b[0m: 'LatentDirichletAllocation' object has no attribute 'predict'"
     ]
    }
   ],
   "source": [
    "from sklearn.metrics import accuracy_score\n",
    "from sklearn.metrics import classification_report\n",
    "\n",
    "X_test = fetch_20newsgroups(subset='test', remove=('headers', 'footers', 'quotes'))\n",
    "\n",
    "\n",
    "y_pred = model_LDA.predict(TfidV_test)\n",
    "\n",
    "y_true = TfidV_test.target\n",
    "accuracy = accuracy_score(y_true, y_pred)\n",
    "print(f\"Accuracy: {accuracy}\")\n",
    "\n",
    "report = classification_report(y_true, y_pred, target_names= z)\n",
    "print(report)"
   ]
  }
 ],
 "metadata": {
  "kernelspec": {
   "display_name": "base",
   "language": "python",
   "name": "python3"
  },
  "language_info": {
   "codemirror_mode": {
    "name": "ipython",
    "version": 3
   },
   "file_extension": ".py",
   "mimetype": "text/x-python",
   "name": "python",
   "nbconvert_exporter": "python",
   "pygments_lexer": "ipython3",
   "version": "3.10.9"
  }
 },
 "nbformat": 4,
 "nbformat_minor": 2
}
