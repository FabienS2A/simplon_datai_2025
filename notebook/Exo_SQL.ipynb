{
 "cells": [
  {
   "cell_type": "markdown",
   "id": "52e93147-d74d-4a89-9643-f33ddaab1616",
   "metadata": {},
   "source": [
    "Du coup, maintenant en écrivant tout, pas simplement remplir une petite case: \n",
    "\n",
    "https://www.programiz.com/sql/online-compiler/"
   ]
  },
  {
   "cell_type": "markdown",
   "id": "35930811-1cc9-4025-b02d-1988f6560185",
   "metadata": {},
   "source": [
    "Afficher tous les prénoms"
   ]
  },
  {
   "cell_type": "markdown",
   "id": "c0288f6c-d3be-4a39-b3cb-844c2428d338",
   "metadata": {},
   "source": [
    "SELECT first_name\n",
    "FROM Customers;"
   ]
  },
  {
   "cell_type": "markdown",
   "id": "94dfb9d8-b805-4231-b551-364c40fe444b",
   "metadata": {},
   "source": [
    "Afficher tous les noms pour le pays UK (where)"
   ]
  },
  {
   "cell_type": "markdown",
   "id": "6fb3111d-dbe1-4678-8f39-c10277bfd252",
   "metadata": {},
   "source": [
    "SELECT last_name FROM Customers\n",
    "WHERE Country='UK';"
   ]
  },
  {
   "cell_type": "markdown",
   "id": "741cb8fc-5f78-4f39-af7b-25eff9d30a02",
   "metadata": {},
   "source": [
    "Afficher l'âge des gens qui vivent aux USA et dont le prénom est robert (and)"
   ]
  },
  {
   "cell_type": "markdown",
   "id": "8feaa491-28cd-454c-9bdd-c3033bc359f7",
   "metadata": {},
   "source": [
    "SELECT age FROM Customers\n",
    "WHERE Country='USA' AND first_name='Robert';"
   ]
  },
  {
   "cell_type": "markdown",
   "id": "572808dd-9055-4238-b96b-e8c3379b8d9f",
   "metadata": {},
   "source": [
    "Afficher combien il y a de moniteur dans la table orders"
   ]
  },
  {
   "cell_type": "markdown",
   "id": "d6eeeda3-e96b-4263-be99-1b7e1cb1a44b",
   "metadata": {},
   "source": [
    "SELECT SUM(amount) \n",
    "FROM Orders\n",
    "WHERE item IS 'Monitor';"
   ]
  },
  {
   "cell_type": "markdown",
   "id": "14d5f76e-e845-4f9d-a74f-b8550f49f53e",
   "metadata": {},
   "source": [
    "Afficher le nombre de client (COUNT())"
   ]
  },
  {
   "cell_type": "markdown",
   "id": "9c051319-f72a-44e7-aa8d-5a2059b52f75",
   "metadata": {},
   "source": [
    "SELECT COUNT(customer_id)\n",
    "FROM Customers;"
   ]
  },
  {
   "cell_type": "markdown",
   "id": "cb49f67c-3295-4990-9b76-d638d67b9749",
   "metadata": {},
   "source": [
    "Afficher l'âge moyen des clients (AVG())"
   ]
  },
  {
   "cell_type": "markdown",
   "id": "1c30b771-aa2a-45d6-a962-ebb424ef4351",
   "metadata": {},
   "source": [
    "SELECT AVG(age)\n",
    "FROM Customers;"
   ]
  }
 ],
 "metadata": {
  "kernelspec": {
   "display_name": "Python 3 (ipykernel)",
   "language": "python",
   "name": "python3"
  },
  "language_info": {
   "codemirror_mode": {
    "name": "ipython",
    "version": 3
   },
   "file_extension": ".py",
   "mimetype": "text/x-python",
   "name": "python",
   "nbconvert_exporter": "python",
   "pygments_lexer": "ipython3",
   "version": "3.10.9"
  }
 },
 "nbformat": 4,
 "nbformat_minor": 5
}
