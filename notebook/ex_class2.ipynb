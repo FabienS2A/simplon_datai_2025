{
 "cells": [
  {
   "cell_type": "code",
   "execution_count": 1,
   "metadata": {},
   "outputs": [],
   "source": [
    "class Humain :\n",
    "    def __init__(self, name, age, size, gender):\n",
    "        self.name = name\n",
    "        self._age = age\n",
    "        self.size = size\n",
    "        self.gender = gender\n",
    "\n",
    "    def get_age(self):\n",
    "        return self._age\n",
    "\n",
    "    def __str__(self):\n",
    "        return \"Hi, my name is \" + self.name + \", I\\'m \" + str(self._age) + \" years old.\"\n",
    "    \n",
    "class Apprenant(Humain) :\n",
    "\n",
    "    def __init__(self, name, age, size, gender, headache = 0, knowledge = 0, lover = 'Nobody'):\n",
    "        super().__init__(name, age, size, gender)\n",
    "        self.headache = headache\n",
    "        self.knowledge = knowledge\n",
    "        self.lover = lover\n",
    "\n",
    "    def prise_de_tete(self, formateur_id):\n",
    "        if self.lover == 'Nobody' :\n",
    "            self.headache = self.headache + formateur_id.crazyness\n",
    "        else :\n",
    "            self.headache = self.headache + (formateur_id.crazyness / 2)\n",
    "\n",
    "        if self.headache <= 90 :\n",
    "                return \"Ouch, \" + formateur_id.name + \" is terrible, my headache is now \" + str(self.headache)\n",
    "        elif self.headache > 90 and self.headache < 180 :\n",
    "                return \"Argh, I get 1 hour of class with \" + formateur_id.name + \" my headache is too bad, please give me some medecine \" + str(self.headache)\n",
    "        else :\n",
    "                return self.name + \" is dead. RIP\"\n",
    "\n",
    "    def doliprane(self):\n",
    "        if self.headache >= 180 :\n",
    "            return self.name + \" is dead, you can\\'t help him anymore, unless you are a nurse...\"\n",
    "        else :\n",
    "            self.headache = self.headache - 30\n",
    "            return \"Thanks, I feel better now \" + str(self.headache)\n",
    "    \n",
    "    def __str__(self):\n",
    "        if self.lover == 'Nobody':\n",
    "            return \"Hi, my name is \" + self.name + \", I\\'m \" + str(self._age) + \" years old. My headache is \" + str(self.headache) + \".\"\n",
    "        else :\n",
    "            return \"Hi, my name is \" + self.name + \", I\\'m \" + str(self._age) + \" years old. My headache is \" + str(self.headache) + \" and I\\'m in love with \" + self.lover + \".\"\n",
    "\n",
    "class Formateur(Humain) :\n",
    "    def __init__(self, name, age, size, gender, skills = 50, crazyness = 30):\n",
    "        super().__init__(name, age, size, gender)\n",
    "        self.crazyness = crazyness\n",
    "        self.skills = skills\n",
    "\n",
    "    def teaching(self, Apprenant_ID):\n",
    "        Apprenant_ID.knowledge = Apprenant_ID.knowledge + self.skills\n",
    "        #Apprenant_ID.headache = Apprenant_ID.headache + self.crazyness\n",
    "        Apprenant_ID.prise_de_tete(self)\n",
    "\n",
    "class Nurse(Humain) :\n",
    "    def __init__(self, name, age, size, gender, life_kiss = 10):\n",
    "        super().__init__(name, age, size, gender)\n",
    "        self.life_kiss = life_kiss\n",
    "\n",
    "    def magic_kiss(self, Apprenant_id) :\n",
    "        if Apprenant_id.headache < 180 and self.life_kiss > 0 :\n",
    "            self.life_kiss = self.life_kiss - 1\n",
    "            Apprenant_id.lover = self.name\n",
    "            return self.name + \" kissed \" + Apprenant_id.name + \", he is now in love with her. But she has only \" + str(self.life_kiss) + \" magic kisses remaining.\"\n",
    "\n",
    "        elif Apprenant_id.headache >= 180 and self.life_kiss > 0 :\n",
    "            Apprenant_id.headache = Apprenant_id.headache - 90\n",
    "            self.life_kiss = self.life_kiss - 1\n",
    "            return self.name + \" kissed \" + Apprenant_id.name + \", he is back to life. But she has only \" + str(self.life_kiss) + \" magic kisses remaining.\"\n",
    "\n",
    "        else :\n",
    "            return \"No more magic kiss, it's time to get a nap.\"\n"
   ]
  },
  {
   "cell_type": "code",
   "execution_count": 2,
   "metadata": {},
   "outputs": [],
   "source": [
    "a = Humain('Dominique', 65, 1.82, 'homme')\n",
    "b = Apprenant('Fabien', 38, 1.82, 'homme')\n",
    "c = Formateur('Anto', 42, 1.80, 'homme')\n",
    "d = Nurse('Alice', 40, 1.70, 'Femme')\n"
   ]
  },
  {
   "cell_type": "code",
   "execution_count": null,
   "metadata": {},
   "outputs": [],
   "source": [
    "print(b)"
   ]
  },
  {
   "cell_type": "code",
   "execution_count": null,
   "metadata": {},
   "outputs": [],
   "source": [
    "print(b.prise_de_tete(c))"
   ]
  },
  {
   "cell_type": "code",
   "execution_count": 31,
   "metadata": {},
   "outputs": [
    {
     "name": "stdout",
     "output_type": "stream",
     "text": [
      "Thanks, I feel better now -30.0\n"
     ]
    }
   ],
   "source": [
    "print(b.doliprane())"
   ]
  },
  {
   "cell_type": "code",
   "execution_count": 23,
   "metadata": {},
   "outputs": [
    {
     "name": "stdout",
     "output_type": "stream",
     "text": [
      "No more magic kiss, it's time to get a nap.\n"
     ]
    }
   ],
   "source": [
    "print(d.magic_kiss(b))\n",
    "\n"
   ]
  },
  {
   "cell_type": "code",
   "execution_count": 25,
   "metadata": {},
   "outputs": [
    {
     "data": {
      "text/plain": [
       "'Argh, I get 1 hour of class with Anto my headache is too bad, please give me some medecine 150.0'"
      ]
     },
     "execution_count": 25,
     "metadata": {},
     "output_type": "execute_result"
    }
   ],
   "source": [
    "\n",
    "\n",
    "b.prise_de_tete(c)"
   ]
  }
 ],
 "metadata": {
  "kernelspec": {
   "display_name": "base",
   "language": "python",
   "name": "python3"
  },
  "language_info": {
   "codemirror_mode": {
    "name": "ipython",
    "version": 3
   },
   "file_extension": ".py",
   "mimetype": "text/x-python",
   "name": "python",
   "nbconvert_exporter": "python",
   "pygments_lexer": "ipython3",
   "version": "3.10.9"
  }
 },
 "nbformat": 4,
 "nbformat_minor": 2
}
