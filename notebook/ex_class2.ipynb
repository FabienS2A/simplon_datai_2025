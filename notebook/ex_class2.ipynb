{
 "cells": [
  {
   "cell_type": "code",
   "execution_count": 1,
   "metadata": {},
   "outputs": [],
   "source": [
    "class Humain :\n",
    "    def __init__(self, name, age, size, gender):\n",
    "        self.name = name\n",
    "        self._age = age\n",
    "        self.size = size\n",
    "        self.gender = gender\n",
    "\n",
    "    def get_age(self):\n",
    "        return self._age\n",
    "\n",
    "    def __str__(self):\n",
    "        return \"Hi, my name is \" + self.name + \", I\\'m \" + str(self._age) + \" years old.\"\n",
    "    \n",
    "\n",
    "class Apprenant(Humain) :\n",
    "    def __init__(self, name, age, size, gender, headache = 0, lover = 'Nobody'):\n",
    "        super().__init__(name, age, size, gender)\n",
    "        self.headache = headache\n",
    "        self.lover = lover\n",
    "\n",
    "    def prise_de_tete(self, formateur_id):\n",
    "        if self.lover == 'Nobody' :\n",
    "            self.headache = self.headache + formateur_id.crazyness\n",
    "        else :\n",
    "            self.headache = self.headache + (formateur_id.crazyness / 2)\n",
    "\n",
    "        if self.headache <= 90 :\n",
    "                return \"Ouch, \" + formateur_id.name + \" is terrible, my headache is now \" + str(self.headache)\n",
    "        elif self.headache > 90 and self.headache < 180 :\n",
    "                return \"Argh, I get 1 hour of class with \" + formateur_id.name + \" my headache is too bad, please give me some medecine \" + str(self.headache)\n",
    "        else :\n",
    "                return self.name + \" is dead. RIP\"\n",
    "\n",
    "    \n",
    "    def doliprane(self):\n",
    "        if self.headache >= 180 :\n",
    "            return self.name + \" is dead, you can\\'t help him anymore, unless you are a nurse...\"\n",
    "        else :\n",
    "            self.headache = self.headache - 30\n",
    "            return \"Thanks, I feel better now \" + str(self.headache)\n",
    "    \n",
    "    def __str__(self):\n",
    "        if self.lover == 'Nobody':\n",
    "            return \"Hi, my name is \" + self.name + \", I\\'m \" + str(self._age) + \" years old. My headache is \" + str(self.headache)\n",
    "        else :\n",
    "            return \"Hi, my name is \" + self.name + \", I\\'m \" + str(self._age) + \" years old. I\\'m in love with \" + self.lover\n",
    "\n",
    "\n",
    "\n",
    "class Formateur(Humain) :\n",
    "    def __init__(self, name, age, size, gender, crazyness = 30):\n",
    "        super().__init__(name, age, size, gender)\n",
    "        self.crazyness = crazyness\n",
    "\n",
    "class Nurse(Humain) :\n",
    "    def __init__(self, name, age, size, gender, life_kiss = 10):\n",
    "        super().__init__(name, age, size, gender)\n",
    "        self.life_kiss = life_kiss\n",
    "\n",
    "    def magic_kiss(self, apprenant_id) :\n",
    "        if apprenant_id.headache < 180 :\n",
    "            self.life_kiss = self.life_kiss - 1\n",
    "            apprenant_id.lover = self.name\n",
    "            return self.name + \" kissed \" + apprenant_id.name + \", he is now in love with her. But she has only \" + str(self.life_kiss) + \" magic kisses remaining.\"\n",
    "\n",
    "        elif apprenant_id.headache >= 180 :\n",
    "            apprenant_id.headache = apprenant_id.headache - 90\n",
    "            self.life_kiss = self.life_kiss - 1\n",
    "            return self.name + \" kissed \" + apprenant_id.name + \", he is back to life. But she has only \" + str(self.life_kiss) + \" magic kisses remaining.\"\n",
    "\n"
   ]
  },
  {
   "cell_type": "code",
   "execution_count": 2,
   "metadata": {},
   "outputs": [],
   "source": [
    "a = Humain('Dominique', 65, 1.82, 'homme')\n",
    "b = Apprenant('Fabien', 38, 1.82, 'homme')\n",
    "c = Formateur('Anto', 42, 1.80, 'homme')\n",
    "d = Nurse('Alice', 40, 1.70, 'Femme')\n"
   ]
  },
  {
   "cell_type": "code",
   "execution_count": 3,
   "metadata": {},
   "outputs": [
    {
     "name": "stdout",
     "output_type": "stream",
     "text": [
      "Hi, my name is Fabien, I'm 38 years old. My headache is 0\n"
     ]
    }
   ],
   "source": [
    "print(b)"
   ]
  },
  {
   "cell_type": "code",
   "execution_count": 7,
   "metadata": {},
   "outputs": [
    {
     "name": "stdout",
     "output_type": "stream",
     "text": [
      "Argh, I get 1 hour of class with Anto my headache is too bad, please give me some medecine 120\n"
     ]
    }
   ],
   "source": [
    "print(b.prise_de_tete(c))"
   ]
  },
  {
   "cell_type": "code",
   "execution_count": 10,
   "metadata": {},
   "outputs": [
    {
     "name": "stdout",
     "output_type": "stream",
     "text": [
      "Thanks, I feel better now 30\n"
     ]
    }
   ],
   "source": [
    "print(b.doliprane())"
   ]
  },
  {
   "cell_type": "code",
   "execution_count": 11,
   "metadata": {},
   "outputs": [
    {
     "name": "stdout",
     "output_type": "stream",
     "text": [
      "Alice kissed Fabien, he is now in love with her. But she has only 9 magic kisses remaining.\n"
     ]
    }
   ],
   "source": [
    "print(d.magic_kiss(b))\n",
    "\n"
   ]
  },
  {
   "cell_type": "code",
   "execution_count": 12,
   "metadata": {},
   "outputs": [
    {
     "name": "stdout",
     "output_type": "stream",
     "text": [
      "Hi, my name is Fabien, I'm 38 years old. I'm in love with Alice\n"
     ]
    }
   ],
   "source": [
    "print(b)"
   ]
  },
  {
   "cell_type": "code",
   "execution_count": 17,
   "metadata": {},
   "outputs": [
    {
     "name": "stdout",
     "output_type": "stream",
     "text": [
      "Argh, I get 1 hour of class with Anto my headache is too bad, please give me some medecine 105.0\n"
     ]
    }
   ],
   "source": [
    "print(b.prise_de_tete(c))"
   ]
  }
 ],
 "metadata": {
  "kernelspec": {
   "display_name": "base",
   "language": "python",
   "name": "python3"
  },
  "language_info": {
   "codemirror_mode": {
    "name": "ipython",
    "version": 3
   },
   "file_extension": ".py",
   "mimetype": "text/x-python",
   "name": "python",
   "nbconvert_exporter": "python",
   "pygments_lexer": "ipython3",
   "version": "3.10.9"
  }
 },
 "nbformat": 4,
 "nbformat_minor": 2
}
