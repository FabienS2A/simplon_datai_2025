{
 "cells": [
  {
   "cell_type": "markdown",
   "id": "b2fca0bd",
   "metadata": {},
   "source": [
    "# 100* hello"
   ]
  },
  {
   "cell_type": "code",
   "execution_count": 1,
   "id": "051ccfc2",
   "metadata": {},
   "outputs": [
    {
     "name": "stdout",
     "output_type": "stream",
     "text": [
      "hellow\n",
      "hellow\n",
      "hellow\n",
      "hellow\n",
      "hellow\n",
      "hellow\n",
      "hellow\n",
      "hellow\n",
      "hellow\n",
      "hellow\n",
      "hellow\n"
     ]
    }
   ],
   "source": [
    "for n in range (11):\n",
    "    print(\"hellow\")"
   ]
  }
 ],
 "metadata": {
  "kernelspec": {
   "display_name": "Python 3 (ipykernel)",
   "language": "python",
   "name": "python3"
  },
  "language_info": {
   "codemirror_mode": {
    "name": "ipython",
    "version": 3
   },
   "file_extension": ".py",
   "mimetype": "text/x-python",
   "name": "python",
   "nbconvert_exporter": "python",
   "pygments_lexer": "ipython3",
   "version": "3.10.9"
  }
 },
 "nbformat": 4,
 "nbformat_minor": 5
}
