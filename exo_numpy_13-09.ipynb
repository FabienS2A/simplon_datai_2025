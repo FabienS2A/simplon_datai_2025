{
 "cells": [
  {
   "cell_type": "markdown",
   "id": "ba912b6f",
   "metadata": {},
   "source": [
    "# 1. Créez un tableau NumPy contenant les entiers de 1 à 10 (inclus)."
   ]
  },
  {
   "cell_type": "code",
   "execution_count": 1,
   "id": "90b7cb99",
   "metadata": {},
   "outputs": [
    {
     "name": "stdout",
     "output_type": "stream",
     "text": [
      "[ 1  2  3  4  5  6  7  8  9 10]\n"
     ]
    }
   ],
   "source": [
    "import numpy as np #impoter package numpy\n",
    "\n",
    "a = [*range(1,11)] #creer une liste de 1 à 10\n",
    "\n",
    "print(np.array(a)) #print le résultat"
   ]
  },
  {
   "cell_type": "markdown",
   "id": "964bd294",
   "metadata": {},
   "source": [
    "# 1. Solution bis"
   ]
  },
  {
   "cell_type": "code",
   "execution_count": 2,
   "id": "68da41af",
   "metadata": {},
   "outputs": [
    {
     "name": "stdout",
     "output_type": "stream",
     "text": [
      "[array([ 1,  2,  3,  4,  5,  6,  7,  8,  9, 10])]\n"
     ]
    }
   ],
   "source": [
    "import numpy as np\n",
    "a = [np.arange(1,11)]\n",
    "\n",
    "print(a)"
   ]
  },
  {
   "cell_type": "markdown",
   "id": "e2268e6b",
   "metadata": {},
   "source": [
    "# 2. Créez un tableau NumPy contenant 5 valeurs flottantes générées aléatoirement entre 0 et 1."
   ]
  },
  {
   "cell_type": "code",
   "execution_count": 3,
   "id": "31fd327e",
   "metadata": {},
   "outputs": [
    {
     "name": "stdout",
     "output_type": "stream",
     "text": [
      "[array([0.02983178, 0.15286255, 0.08828731, 0.81203954, 0.5032151 ])]\n"
     ]
    }
   ],
   "source": [
    "import numpy as np\n",
    "\n",
    "a = [np.random.rand(5)]\n",
    "\n",
    "print(a)"
   ]
  },
  {
   "cell_type": "markdown",
   "id": "7ca1d1d7",
   "metadata": {},
   "source": [
    "# 3. Créez une fonction qui prend un tableau NumPy en entrée et renvoie la somme de ses éléments."
   ]
  },
  {
   "cell_type": "code",
   "execution_count": 7,
   "id": "0ac97e68",
   "metadata": {},
   "outputs": [
    {
     "name": "stdout",
     "output_type": "stream",
     "text": [
      "[[1 2 3]\n",
      " [4 5 6]]\n",
      "21\n"
     ]
    }
   ],
   "source": [
    "import numpy as np\n",
    "\n",
    "def somme_arr(x):\n",
    "    y = x.sum()\n",
    "    return y\n",
    "\n",
    "array = np.array([(1,2,3),(4,5,6)])\n",
    "\n",
    "print(array)\n",
    "\n",
    "print(somme_arr(array))"
   ]
  },
  {
   "cell_type": "markdown",
   "id": "c54b8b9f",
   "metadata": {},
   "source": [
    "# 4. Créez une fonction qui prend deux tableaux NumPy en entrée et renvoie le produit scalaire de ces deux tableaux (dot product)."
   ]
  },
  {
   "cell_type": "code",
   "execution_count": 6,
   "id": "ce512a9f",
   "metadata": {},
   "outputs": [
    {
     "name": "stdout",
     "output_type": "stream",
     "text": [
      "385\n"
     ]
    }
   ],
   "source": [
    "import numpy as np\n",
    "\n",
    "def mult_array(x,z):\n",
    "    y = np.dot(x, z, out=None)\n",
    "    return y\n",
    "\n",
    "array_1 = np.arange(1,11)\n",
    "\n",
    "array_2 = np.arange(1,11)\n",
    "\n",
    "print(mult_array(array_1,array_2))"
   ]
  },
  {
   "cell_type": "markdown",
   "id": "9b59b0e6",
   "metadata": {},
   "source": [
    "# 5. Créez une fonction qui prend un tableau NumPy en entrée et renvoie un nouveau tableau contenant uniquement les éléments uniques du tableau d'origine."
   ]
  },
  {
   "cell_type": "code",
   "execution_count": 8,
   "id": "cbc9e40e",
   "metadata": {},
   "outputs": [
    {
     "name": "stdout",
     "output_type": "stream",
     "text": [
      "[1 2 3 2 8 5 4 5 6]\n",
      "[1 2 3 4 5 6 8]\n"
     ]
    }
   ],
   "source": [
    "import numpy as np\n",
    "\n",
    "def arr_sort_unique(x):\n",
    "    y = np.unique(x)\n",
    "    return y\n",
    "\n",
    "array = np.array([1,2,3,2,8,5,4,5,6])\n",
    "\n",
    "print(array)\n",
    "\n",
    "print(arr_sort_unique(array))"
   ]
  },
  {
   "cell_type": "markdown",
   "id": "31d328a9",
   "metadata": {},
   "source": [
    "# 6. Créez une fonction qui prend un tableau NumPy en entrée et renvoie un nouveau tableau contenant les éléments triés par ordre croissant."
   ]
  },
  {
   "cell_type": "code",
   "execution_count": null,
   "id": "eaf38cbb",
   "metadata": {},
   "outputs": [],
   "source": [
    "import numpy as np\n",
    "\n",
    "def arr_sort_unique(x):\n",
    "    y = np.sort(x)\n",
    "    return y\n",
    "\n",
    "array = np.array([(1,3,2),(8,1,2)])\n",
    "\n",
    "print(array)\n",
    "\n",
    "print(arr_sort_unique(array))"
   ]
  },
  {
   "cell_type": "markdown",
   "id": "97fd8525",
   "metadata": {},
   "source": [
    "# 7. Créez une fonction qui prend un tableau NumPy en entrée et renvoie la moyenne, la médiane et l'écart type de ses éléments."
   ]
  },
  {
   "cell_type": "code",
   "execution_count": null,
   "id": "9ea5d9e5",
   "metadata": {},
   "outputs": [],
   "source": [
    "import numpy as np\n",
    "\n",
    "def arr_sort_unique(x):\n",
    "    print(\"For the array :\", x)\n",
    "    y = np.mean(x)\n",
    "    print(\"mean of the array =\",y)\n",
    "    z = np.median(x)\n",
    "    print(\"median of the array =\",z)\n",
    "    w = np.std(x)\n",
    "    print(\"standard deviation of the array =\",w)\n",
    "    return y, z, w\n",
    "\n",
    "array = np.array([(1,3,2),(8,1,2)])\n",
    "\n",
    "arr_sort_unique(array)"
   ]
  },
  {
   "cell_type": "markdown",
   "id": "fd041bc6",
   "metadata": {},
   "source": [
    "# 8. Créez une fonction qui prend un tableau NumPy en entrée et renvoie un nouveau tableau où tous les éléments inférieurs à 5 sont remplacés par 0 et tous les éléments supérieurs ou égaux à 5 sont remplacés par 1."
   ]
  },
  {
   "cell_type": "code",
   "execution_count": null,
   "id": "dbf32382",
   "metadata": {},
   "outputs": [],
   "source": [
    "import numpy as np\n",
    "\n",
    "def zero_or_one(x):\n",
    "    y = np.where(x <= 5, 0, 1)\n",
    "    return y\n",
    "\n",
    "array = np.array([(9,3,5),(8,1,2)])\n",
    "\n",
    "print(array)\n",
    "\n",
    "print(zero_or_one(array))"
   ]
  },
  {
   "cell_type": "markdown",
   "id": "60ec0edd",
   "metadata": {},
   "source": [
    "# 9. Créez un tableau NumPy 2D de taille 3x3 contenant des valeurs entières générées aléatoirement entre 1 et 10."
   ]
  },
  {
   "cell_type": "code",
   "execution_count": 9,
   "id": "c08c268d",
   "metadata": {},
   "outputs": [
    {
     "name": "stdout",
     "output_type": "stream",
     "text": [
      "[[7 8 2]\n",
      " [9 8 4]\n",
      " [5 7 6]]\n"
     ]
    }
   ],
   "source": [
    "import numpy as np\n",
    "\n",
    "def random_2D_33():\n",
    "    y = np.random.randint(10, size=(3, 3))\n",
    "    return y\n",
    "\n",
    "print(random_2D_33())"
   ]
  },
  {
   "cell_type": "code",
   "execution_count": null,
   "id": "db0a8219",
   "metadata": {},
   "outputs": [],
   "source": []
  }
 ],
 "metadata": {
  "kernelspec": {
   "display_name": "Python 3 (ipykernel)",
   "language": "python",
   "name": "python3"
  },
  "language_info": {
   "codemirror_mode": {
    "name": "ipython",
    "version": 3
   },
   "file_extension": ".py",
   "mimetype": "text/x-python",
   "name": "python",
   "nbconvert_exporter": "python",
   "pygments_lexer": "ipython3",
   "version": "3.10.9"
  }
 },
 "nbformat": 4,
 "nbformat_minor": 5
}
