{
 "cells": [
  {
   "cell_type": "markdown",
   "id": "0a5116df",
   "metadata": {},
   "source": [
    "# 1. Créez un tableau NumPy contenant les entiers de 1 à 10 (inclus)."
   ]
  },
  {
   "cell_type": "code",
   "execution_count": 1,
   "id": "d339cfee",
   "metadata": {},
   "outputs": [
    {
     "name": "stdout",
     "output_type": "stream",
     "text": [
      "[ 1  2  3  4  5  6  7  8  9 10]\n"
     ]
    }
   ],
   "source": [
    "import numpy as np #impoter package numpy\n",
    "\n",
    "a = [*range(1,11)] #creer une liste de 1 à 10\n",
    "\n",
    "print(np.array(a)) #print le résultat"
   ]
  },
  {
   "cell_type": "markdown",
   "id": "071183c4",
   "metadata": {},
   "source": [
    "# 1. Solution bis"
   ]
  },
  {
   "cell_type": "code",
   "execution_count": 2,
   "id": "a676a699",
   "metadata": {},
   "outputs": [
    {
     "name": "stdout",
     "output_type": "stream",
     "text": [
      "[array([ 1,  2,  3,  4,  5,  6,  7,  8,  9, 10])]\n"
     ]
    }
   ],
   "source": [
    "import numpy as np\n",
    "a = [np.arange(1,11)]\n",
    "\n",
    "print(a)"
   ]
  },
  {
   "cell_type": "markdown",
   "id": "18a4ac53",
   "metadata": {},
   "source": [
    "# 2. Créez un tableau NumPy contenant 5 valeurs flottantes générées aléatoirement entre 0 et 1."
   ]
  },
  {
   "cell_type": "code",
   "execution_count": 3,
   "id": "2b6b4de4",
   "metadata": {},
   "outputs": [
    {
     "name": "stdout",
     "output_type": "stream",
     "text": [
      "[array([0.02983178, 0.15286255, 0.08828731, 0.81203954, 0.5032151 ])]\n"
     ]
    }
   ],
   "source": [
    "import numpy as np\n",
    "\n",
    "a = [np.random.rand(5)]\n",
    "\n",
    "print(a)"
   ]
  },
  {
   "cell_type": "markdown",
   "id": "c4c32c8c",
   "metadata": {},
   "source": [
    "# 3. Créez une fonction qui prend un tableau NumPy en entrée et renvoie la somme de ses éléments."
   ]
  },
  {
   "cell_type": "code",
   "execution_count": 4,
   "id": "a525a799",
   "metadata": {},
   "outputs": [
    {
     "name": "stdout",
     "output_type": "stream",
     "text": [
      "[ 1  2  3  4  5  6  7  8  9 10]\n",
      "55\n"
     ]
    }
   ],
   "source": [
    "import numpy as np\n",
    "\n",
    "def somme(x):\n",
    "    arr = a.tolist()\n",
    "    b = 0\n",
    "    for n in arr :\n",
    "        b = n + b\n",
    "    return b\n",
    "\n",
    "a = np.arange(1,11)\n",
    "print(a)\n",
    "print(somme(a))"
   ]
  },
  {
   "cell_type": "markdown",
   "id": "5b3d3678",
   "metadata": {},
   "source": [
    "# 4 Créez une fonction qui prend deux tableaux NumPy en entrée et renvoie le produit scalaire de ces deux tableaux (dot product)."
   ]
  },
  {
   "cell_type": "code",
   "execution_count": null,
   "id": "c5dfb821",
   "metadata": {},
   "outputs": [],
   "source": []
  }
 ],
 "metadata": {
  "kernelspec": {
   "display_name": "Python 3 (ipykernel)",
   "language": "python",
   "name": "python3"
  },
  "language_info": {
   "codemirror_mode": {
    "name": "ipython",
    "version": 3
   },
   "file_extension": ".py",
   "mimetype": "text/x-python",
   "name": "python",
   "nbconvert_exporter": "python",
   "pygments_lexer": "ipython3",
   "version": "3.10.9"
  }
 },
 "nbformat": 4,
 "nbformat_minor": 5
}
